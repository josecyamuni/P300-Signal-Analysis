{
 "cells": [
  {
   "cell_type": "markdown",
   "id": "de2fa8b8",
   "metadata": {},
   "source": [
    "### Imports"
   ]
  },
  {
   "cell_type": "code",
   "execution_count": null,
   "id": "483dd201",
   "metadata": {},
   "outputs": [],
   "source": [
    "import pandas as pd\n",
    "import numpy as np\n",
    "\n",
    "from sklearn.svm import SVC\n",
    "from sklearn.neighbors import KNeighborsClassifier\n",
    "from sklearn.neural_network import MLPClassifier\n",
    "from sklearn.ensemble import RandomForestClassifier\n",
    "from sklearn.ensemble import GradientBoostingClassifier\n",
    "\n",
    "from sklearn.model_selection import GridSearchCV\n",
    "from sklearn.model_selection import StratifiedKFold\n",
    "from sklearn.metrics import classification_report\n",
    "from imblearn.under_sampling import RandomUnderSampler\n",
    "\n",
    "from tabulate import tabulate"
   ]
  },
  {
   "cell_type": "markdown",
   "id": "665e376a",
   "metadata": {},
   "source": [
    "### Function for CV"
   ]
  },
  {
   "cell_type": "code",
   "execution_count": 2,
   "id": "1e81cc15",
   "metadata": {},
   "outputs": [],
   "source": [
    "def stratifiedkfold(kf, grid_search, y_true, y_pred, data, target):\n",
    "    for train_index, test_index in kf.split(data, target):\n",
    "\n",
    "        # Training phase\n",
    "        x_train = data.iloc[train_index]\n",
    "        y_train = target.iloc[train_index]\n",
    "        \n",
    "        rus = RandomUnderSampler(random_state=42)\n",
    "        x_train_resampled, y_train_resampled = rus.fit_resample(x_train, y_train)\n",
    "\n",
    "        grid_search.fit(x_train_resampled, y_train_resampled)\n",
    "        \n",
    "        clf_kf_cv = grid_search.best_estimator_\n",
    "        \n",
    "        print('Best parameters: ', grid_search.best_params_)\n",
    "\n",
    "        # Test phase\n",
    "        x_test = data.iloc[test_index]\n",
    "        y_test = target.iloc[test_index]  \n",
    "        y_true.append(y_test)\n",
    "        y_pred.append(clf_kf_cv.predict(x_test))\n",
    "    pass"
   ]
  },
  {
   "cell_type": "markdown",
   "id": "6d91f204",
   "metadata": {},
   "source": [
    "# P300"
   ]
  },
  {
   "cell_type": "markdown",
   "id": "9db1c3f4",
   "metadata": {},
   "source": [
    "## Archivo Michel"
   ]
  },
  {
   "cell_type": "code",
   "execution_count": 3,
   "id": "8610ec32",
   "metadata": {},
   "outputs": [
    {
     "data": {
      "text/html": [
       "<div>\n",
       "<style scoped>\n",
       "    .dataframe tbody tr th:only-of-type {\n",
       "        vertical-align: middle;\n",
       "    }\n",
       "\n",
       "    .dataframe tbody tr th {\n",
       "        vertical-align: top;\n",
       "    }\n",
       "\n",
       "    .dataframe thead th {\n",
       "        text-align: right;\n",
       "    }\n",
       "</style>\n",
       "<table border=\"1\" class=\"dataframe\">\n",
       "  <thead>\n",
       "    <tr style=\"text-align: right;\">\n",
       "      <th></th>\n",
       "      <th>0</th>\n",
       "      <th>2</th>\n",
       "      <th>3</th>\n",
       "      <th>4</th>\n",
       "      <th>5</th>\n",
       "      <th>6</th>\n",
       "      <th>7</th>\n",
       "      <th>8</th>\n",
       "      <th>9</th>\n",
       "      <th>10</th>\n",
       "      <th>...</th>\n",
       "      <th>142</th>\n",
       "      <th>143</th>\n",
       "      <th>144</th>\n",
       "      <th>145</th>\n",
       "      <th>146</th>\n",
       "      <th>147</th>\n",
       "      <th>148</th>\n",
       "      <th>149</th>\n",
       "      <th>150</th>\n",
       "      <th>151</th>\n",
       "    </tr>\n",
       "  </thead>\n",
       "  <tbody>\n",
       "    <tr>\n",
       "      <th>0</th>\n",
       "      <td>1</td>\n",
       "      <td>-2.559311</td>\n",
       "      <td>-2.226564</td>\n",
       "      <td>-0.969904</td>\n",
       "      <td>0.895154</td>\n",
       "      <td>2.600135</td>\n",
       "      <td>3.008595</td>\n",
       "      <td>1.716012</td>\n",
       "      <td>-0.238857</td>\n",
       "      <td>-1.370326</td>\n",
       "      <td>...</td>\n",
       "      <td>0.276208</td>\n",
       "      <td>0.365666</td>\n",
       "      <td>0.423463</td>\n",
       "      <td>0.178581</td>\n",
       "      <td>-0.555389</td>\n",
       "      <td>-1.404109</td>\n",
       "      <td>-1.761936</td>\n",
       "      <td>-1.596914</td>\n",
       "      <td>-1.516760</td>\n",
       "      <td>-1.883596</td>\n",
       "    </tr>\n",
       "    <tr>\n",
       "      <th>1</th>\n",
       "      <td>1</td>\n",
       "      <td>-0.591904</td>\n",
       "      <td>-1.239847</td>\n",
       "      <td>-1.306299</td>\n",
       "      <td>-1.292547</td>\n",
       "      <td>-1.716696</td>\n",
       "      <td>-2.312961</td>\n",
       "      <td>-2.448143</td>\n",
       "      <td>-2.158418</td>\n",
       "      <td>-2.096092</td>\n",
       "      <td>...</td>\n",
       "      <td>0.730268</td>\n",
       "      <td>0.146788</td>\n",
       "      <td>-0.710786</td>\n",
       "      <td>-0.948481</td>\n",
       "      <td>-0.787767</td>\n",
       "      <td>-0.954385</td>\n",
       "      <td>-1.287491</td>\n",
       "      <td>-1.103642</td>\n",
       "      <td>-0.582118</td>\n",
       "      <td>-0.533074</td>\n",
       "    </tr>\n",
       "    <tr>\n",
       "      <th>2</th>\n",
       "      <td>1</td>\n",
       "      <td>-0.336419</td>\n",
       "      <td>-0.420086</td>\n",
       "      <td>-0.667222</td>\n",
       "      <td>-0.341556</td>\n",
       "      <td>0.283712</td>\n",
       "      <td>0.512859</td>\n",
       "      <td>0.425740</td>\n",
       "      <td>0.558908</td>\n",
       "      <td>0.783503</td>\n",
       "      <td>...</td>\n",
       "      <td>0.346338</td>\n",
       "      <td>-0.258329</td>\n",
       "      <td>-0.970773</td>\n",
       "      <td>-1.378206</td>\n",
       "      <td>-1.369884</td>\n",
       "      <td>-1.148282</td>\n",
       "      <td>-0.729237</td>\n",
       "      <td>0.077300</td>\n",
       "      <td>1.059575</td>\n",
       "      <td>1.483101</td>\n",
       "    </tr>\n",
       "    <tr>\n",
       "      <th>3</th>\n",
       "      <td>1</td>\n",
       "      <td>0.105759</td>\n",
       "      <td>0.126904</td>\n",
       "      <td>0.643370</td>\n",
       "      <td>1.215690</td>\n",
       "      <td>1.256958</td>\n",
       "      <td>1.041020</td>\n",
       "      <td>1.077285</td>\n",
       "      <td>1.060043</td>\n",
       "      <td>0.446895</td>\n",
       "      <td>...</td>\n",
       "      <td>1.434471</td>\n",
       "      <td>1.564873</td>\n",
       "      <td>1.367216</td>\n",
       "      <td>1.337781</td>\n",
       "      <td>1.212297</td>\n",
       "      <td>0.362325</td>\n",
       "      <td>-0.997121</td>\n",
       "      <td>-1.709845</td>\n",
       "      <td>-1.038044</td>\n",
       "      <td>0.341079</td>\n",
       "    </tr>\n",
       "    <tr>\n",
       "      <th>4</th>\n",
       "      <td>1</td>\n",
       "      <td>-1.944094</td>\n",
       "      <td>-1.124948</td>\n",
       "      <td>0.233130</td>\n",
       "      <td>0.907609</td>\n",
       "      <td>0.518125</td>\n",
       "      <td>-0.013713</td>\n",
       "      <td>0.093072</td>\n",
       "      <td>0.257662</td>\n",
       "      <td>-0.522591</td>\n",
       "      <td>...</td>\n",
       "      <td>1.196387</td>\n",
       "      <td>1.489753</td>\n",
       "      <td>1.766630</td>\n",
       "      <td>2.063998</td>\n",
       "      <td>2.038592</td>\n",
       "      <td>1.403001</td>\n",
       "      <td>0.409933</td>\n",
       "      <td>-0.298227</td>\n",
       "      <td>-0.348757</td>\n",
       "      <td>-0.012059</td>\n",
       "    </tr>\n",
       "  </tbody>\n",
       "</table>\n",
       "<p>5 rows × 151 columns</p>\n",
       "</div>"
      ],
      "text/plain": [
       "   0         2         3         4         5         6         7         8    \\\n",
       "0    1 -2.559311 -2.226564 -0.969904  0.895154  2.600135  3.008595  1.716012   \n",
       "1    1 -0.591904 -1.239847 -1.306299 -1.292547 -1.716696 -2.312961 -2.448143   \n",
       "2    1 -0.336419 -0.420086 -0.667222 -0.341556  0.283712  0.512859  0.425740   \n",
       "3    1  0.105759  0.126904  0.643370  1.215690  1.256958  1.041020  1.077285   \n",
       "4    1 -1.944094 -1.124948  0.233130  0.907609  0.518125 -0.013713  0.093072   \n",
       "\n",
       "        9         10   ...       142       143       144       145       146  \\\n",
       "0 -0.238857 -1.370326  ...  0.276208  0.365666  0.423463  0.178581 -0.555389   \n",
       "1 -2.158418 -2.096092  ...  0.730268  0.146788 -0.710786 -0.948481 -0.787767   \n",
       "2  0.558908  0.783503  ...  0.346338 -0.258329 -0.970773 -1.378206 -1.369884   \n",
       "3  1.060043  0.446895  ...  1.434471  1.564873  1.367216  1.337781  1.212297   \n",
       "4  0.257662 -0.522591  ...  1.196387  1.489753  1.766630  2.063998  2.038592   \n",
       "\n",
       "        147       148       149       150       151  \n",
       "0 -1.404109 -1.761936 -1.596914 -1.516760 -1.883596  \n",
       "1 -0.954385 -1.287491 -1.103642 -0.582118 -0.533074  \n",
       "2 -1.148282 -0.729237  0.077300  1.059575  1.483101  \n",
       "3  0.362325 -0.997121 -1.709845 -1.038044  0.341079  \n",
       "4  1.403001  0.409933 -0.298227 -0.348757 -0.012059  \n",
       "\n",
       "[5 rows x 151 columns]"
      ]
     },
     "execution_count": 3,
     "metadata": {},
     "output_type": "execute_result"
    }
   ],
   "source": [
    "p300mich1 = pd.read_csv('MichFlechasFeatures.txt', sep = \"\\t\", header = None)\n",
    "useless_rows = []\n",
    "for index, row in p300mich1.iterrows():\n",
    "    if row[1] == 0:\n",
    "        useless_rows.append(index)\n",
    "\n",
    "p300mich1 = p300mich1.drop(useless_rows)\n",
    "p300mich1 = p300mich1.drop([1,152], axis=1)\n",
    "p300mich1 = p300mich1.reset_index(drop = True)\n",
    "p300mich1.head()"
   ]
  },
  {
   "cell_type": "markdown",
   "id": "3a894f4b",
   "metadata": {},
   "source": [
    "### Function for CV"
   ]
  },
  {
   "cell_type": "code",
   "execution_count": 4,
   "id": "00139a19",
   "metadata": {},
   "outputs": [],
   "source": [
    "def p300mich1_cross_validate(classifier, hyperparameters):\n",
    "    \n",
    "    p300mich1_target = p300mich1.iloc[:,0]\n",
    "    p300mich1_data = p300mich1.iloc[:,1:]\n",
    "    \n",
    "    n_folds = 5\n",
    "    kf = StratifiedKFold(n_splits=n_folds, shuffle = True)\n",
    "\n",
    "    acc = 0\n",
    "    recall = np.array([0., 0.])\n",
    "    precision = np.array([0., 0.])\n",
    "\n",
    "    y_true = []\n",
    "    y_pred = []\n",
    "    \n",
    "    param_grid = hyperparameters\n",
    "    \n",
    "    grid_search = GridSearchCV(classifier, param_grid, cv=kf)\n",
    "\n",
    "    stratifiedkfold(kf, grid_search, y_true, y_pred, p300mich1_data, p300mich1_target)\n",
    "\n",
    "    class_names = [\"P300\", \"NoP300\"]\n",
    "    report = classification_report(np.concatenate(y_true), np.concatenate(y_pred), target_names = class_names)\n",
    "    report = report.replace(\"macro avg\", \"macroavg\")\n",
    "    report = report.replace(\"weighted avg\", \"weightedavg\")\n",
    "    rows = report.split('\\n')\n",
    "    rows = [row.split() for row in rows if row.strip()]\n",
    "    return tabulate(rows, headers='firstrow', tablefmt='fancy_grid')"
   ]
  },
  {
   "cell_type": "markdown",
   "id": "8328ab31",
   "metadata": {},
   "source": [
    "### Support Vector Classifier"
   ]
  },
  {
   "cell_type": "code",
   "execution_count": 5,
   "id": "62f84442",
   "metadata": {},
   "outputs": [
    {
     "name": "stdout",
     "output_type": "stream",
     "text": [
      "Best parameters:  {'C': 1, 'kernel': 'rbf'}\n",
      "Best parameters:  {'C': 10, 'kernel': 'rbf'}\n",
      "Best parameters:  {'C': 10, 'kernel': 'rbf'}\n",
      "Best parameters:  {'C': 10, 'kernel': 'rbf'}\n",
      "Best parameters:  {'C': 0.1, 'kernel': 'linear'}\n",
      "╒═════════════╤═════════════╤══════════╤════════════╤═══════════╕\n",
      "│             │   precision │   recall │   f1-score │   support │\n",
      "╞═════════════╪═════════════╪══════════╪════════════╪═══════════╡\n",
      "│ P300        │        0.41 │     0.74 │       0.52 │       204 │\n",
      "├─────────────┼─────────────┼──────────┼────────────┼───────────┤\n",
      "│ NoP300      │        0.92 │     0.74 │       0.82 │       826 │\n",
      "├─────────────┼─────────────┼──────────┼────────────┼───────────┤\n",
      "│ accuracy    │        0.74 │  1030    │            │           │\n",
      "├─────────────┼─────────────┼──────────┼────────────┼───────────┤\n",
      "│ macroavg    │        0.66 │     0.74 │       0.67 │      1030 │\n",
      "├─────────────┼─────────────┼──────────┼────────────┼───────────┤\n",
      "│ weightedavg │        0.82 │     0.74 │       0.76 │      1030 │\n",
      "╘═════════════╧═════════════╧══════════╧════════════╧═══════════╛\n"
     ]
    }
   ],
   "source": [
    "svc_hyperparameters = {'C': [0.1, 1, 10],'kernel': ['linear', 'rbf']}\n",
    "print(p300mich1_cross_validate(SVC(), svc_hyperparameters))"
   ]
  },
  {
   "cell_type": "markdown",
   "id": "b18243ac",
   "metadata": {},
   "source": [
    "### k-Nearest Neighbors"
   ]
  },
  {
   "cell_type": "code",
   "execution_count": 6,
   "id": "03736c91",
   "metadata": {
    "scrolled": true
   },
   "outputs": [
    {
     "name": "stdout",
     "output_type": "stream",
     "text": [
      "Best parameters:  {'metric': 'euclidean', 'n_neighbors': 7, 'weights': 'uniform'}\n",
      "Best parameters:  {'metric': 'euclidean', 'n_neighbors': 7, 'weights': 'uniform'}\n",
      "Best parameters:  {'metric': 'euclidean', 'n_neighbors': 7, 'weights': 'uniform'}\n",
      "Best parameters:  {'metric': 'euclidean', 'n_neighbors': 7, 'weights': 'uniform'}\n",
      "Best parameters:  {'metric': 'manhattan', 'n_neighbors': 5, 'weights': 'uniform'}\n",
      "╒═════════════╤═════════════╤══════════╤════════════╤═══════════╕\n",
      "│             │   precision │   recall │   f1-score │   support │\n",
      "╞═════════════╪═════════════╪══════════╪════════════╪═══════════╡\n",
      "│ P300        │        0.32 │     0.8  │       0.46 │       204 │\n",
      "├─────────────┼─────────────┼──────────┼────────────┼───────────┤\n",
      "│ NoP300      │        0.92 │     0.58 │       0.71 │       826 │\n",
      "├─────────────┼─────────────┼──────────┼────────────┼───────────┤\n",
      "│ accuracy    │        0.62 │  1030    │            │           │\n",
      "├─────────────┼─────────────┼──────────┼────────────┼───────────┤\n",
      "│ macroavg    │        0.62 │     0.69 │       0.58 │      1030 │\n",
      "├─────────────┼─────────────┼──────────┼────────────┼───────────┤\n",
      "│ weightedavg │        0.8  │     0.62 │       0.66 │      1030 │\n",
      "╘═════════════╧═════════════╧══════════╧════════════╧═══════════╛\n"
     ]
    }
   ],
   "source": [
    "knn_hyperparameters = {'n_neighbors': [3, 5, 7], 'weights': ['uniform', 'distance'],'metric': ['euclidean', 'manhattan']}\n",
    "print(p300mich1_cross_validate(KNeighborsClassifier(), knn_hyperparameters))"
   ]
  },
  {
   "cell_type": "markdown",
   "id": "27d7c3f7",
   "metadata": {},
   "source": [
    "### Multilayer Neural Network"
   ]
  },
  {
   "cell_type": "code",
   "execution_count": 7,
   "id": "9ac38d83",
   "metadata": {},
   "outputs": [
    {
     "name": "stdout",
     "output_type": "stream",
     "text": [
      "Best parameters:  {'hidden_layer_sizes': (3, 3)}\n",
      "Best parameters:  {'hidden_layer_sizes': (3, 3)}\n",
      "Best parameters:  {'hidden_layer_sizes': (2, 2)}\n",
      "Best parameters:  {'hidden_layer_sizes': (3, 3)}\n",
      "Best parameters:  {'hidden_layer_sizes': (2, 2)}\n",
      "╒═════════════╤═════════════╤══════════╤════════════╤═══════════╕\n",
      "│             │   precision │   recall │   f1-score │   support │\n",
      "╞═════════════╪═════════════╪══════════╪════════════╪═══════════╡\n",
      "│ P300        │        0.37 │     0.76 │       0.5  │       204 │\n",
      "├─────────────┼─────────────┼──────────┼────────────┼───────────┤\n",
      "│ NoP300      │        0.92 │     0.68 │       0.78 │       826 │\n",
      "├─────────────┼─────────────┼──────────┼────────────┼───────────┤\n",
      "│ accuracy    │        0.7  │  1030    │            │           │\n",
      "├─────────────┼─────────────┼──────────┼────────────┼───────────┤\n",
      "│ macroavg    │        0.64 │     0.72 │       0.64 │      1030 │\n",
      "├─────────────┼─────────────┼──────────┼────────────┼───────────┤\n",
      "│ weightedavg │        0.81 │     0.7  │       0.73 │      1030 │\n",
      "╘═════════════╧═════════════╧══════════╧════════════╧═══════════╛\n"
     ]
    }
   ],
   "source": [
    "mlp_hyperparameters = {'hidden_layer_sizes': [(2,2), (3,3)]}\n",
    "print(p300mich1_cross_validate(MLPClassifier(max_iter = 10000), mlp_hyperparameters))"
   ]
  },
  {
   "cell_type": "markdown",
   "id": "0dae29e2",
   "metadata": {},
   "source": [
    "### Random Forest"
   ]
  },
  {
   "cell_type": "code",
   "execution_count": 8,
   "id": "f3005360",
   "metadata": {},
   "outputs": [
    {
     "name": "stdout",
     "output_type": "stream",
     "text": [
      "Best parameters:  {'n_estimators': 500}\n",
      "Best parameters:  {'n_estimators': 450}\n",
      "Best parameters:  {'n_estimators': 500}\n",
      "Best parameters:  {'n_estimators': 450}\n",
      "Best parameters:  {'n_estimators': 450}\n",
      "╒═════════════╤═════════════╤══════════╤════════════╤═══════════╕\n",
      "│             │   precision │   recall │   f1-score │   support │\n",
      "╞═════════════╪═════════════╪══════════╪════════════╪═══════════╡\n",
      "│ P300        │        0.43 │     0.74 │       0.54 │       204 │\n",
      "├─────────────┼─────────────┼──────────┼────────────┼───────────┤\n",
      "│ NoP300      │        0.92 │     0.76 │       0.83 │       826 │\n",
      "├─────────────┼─────────────┼──────────┼────────────┼───────────┤\n",
      "│ accuracy    │        0.75 │  1030    │            │           │\n",
      "├─────────────┼─────────────┼──────────┼────────────┼───────────┤\n",
      "│ macroavg    │        0.67 │     0.75 │       0.68 │      1030 │\n",
      "├─────────────┼─────────────┼──────────┼────────────┼───────────┤\n",
      "│ weightedavg │        0.82 │     0.75 │       0.77 │      1030 │\n",
      "╘═════════════╧═════════════╧══════════╧════════════╧═══════════╛\n"
     ]
    }
   ],
   "source": [
    "rf_hyperparameters = {'n_estimators': [450, 500]}\n",
    "print(p300mich1_cross_validate(RandomForestClassifier(), rf_hyperparameters))"
   ]
  },
  {
   "cell_type": "markdown",
   "id": "a69535ca",
   "metadata": {},
   "source": [
    "### Gradient Boosting"
   ]
  },
  {
   "cell_type": "code",
   "execution_count": 9,
   "id": "dc5c6562",
   "metadata": {},
   "outputs": [
    {
     "name": "stdout",
     "output_type": "stream",
     "text": [
      "Best parameters:  {'n_estimators': 200}\n",
      "Best parameters:  {'n_estimators': 200}\n",
      "Best parameters:  {'n_estimators': 200}\n",
      "Best parameters:  {'n_estimators': 150}\n",
      "Best parameters:  {'n_estimators': 150}\n",
      "╒═════════════╤═════════════╤══════════╤════════════╤═══════════╕\n",
      "│             │   precision │   recall │   f1-score │   support │\n",
      "╞═════════════╪═════════════╪══════════╪════════════╪═══════════╡\n",
      "│ P300        │        0.41 │     0.76 │       0.53 │       204 │\n",
      "├─────────────┼─────────────┼──────────┼────────────┼───────────┤\n",
      "│ NoP300      │        0.93 │     0.73 │       0.81 │       826 │\n",
      "├─────────────┼─────────────┼──────────┼────────────┼───────────┤\n",
      "│ accuracy    │        0.73 │  1030    │            │           │\n",
      "├─────────────┼─────────────┼──────────┼────────────┼───────────┤\n",
      "│ macroavg    │        0.67 │     0.75 │       0.67 │      1030 │\n",
      "├─────────────┼─────────────┼──────────┼────────────┼───────────┤\n",
      "│ weightedavg │        0.82 │     0.73 │       0.76 │      1030 │\n",
      "╘═════════════╧═════════════╧══════════╧════════════╧═══════════╛\n"
     ]
    }
   ],
   "source": [
    "xgb_hyperparameters = {'n_estimators': [150, 200]}\n",
    "print(p300mich1_cross_validate(GradientBoostingClassifier(), xgb_hyperparameters))"
   ]
  },
  {
   "cell_type": "markdown",
   "id": "0637998d",
   "metadata": {},
   "source": [
    "## Archivo Yamuni"
   ]
  },
  {
   "cell_type": "code",
   "execution_count": 10,
   "id": "d3515289",
   "metadata": {},
   "outputs": [
    {
     "data": {
      "text/html": [
       "<div>\n",
       "<style scoped>\n",
       "    .dataframe tbody tr th:only-of-type {\n",
       "        vertical-align: middle;\n",
       "    }\n",
       "\n",
       "    .dataframe tbody tr th {\n",
       "        vertical-align: top;\n",
       "    }\n",
       "\n",
       "    .dataframe thead th {\n",
       "        text-align: right;\n",
       "    }\n",
       "</style>\n",
       "<table border=\"1\" class=\"dataframe\">\n",
       "  <thead>\n",
       "    <tr style=\"text-align: right;\">\n",
       "      <th></th>\n",
       "      <th>0</th>\n",
       "      <th>2</th>\n",
       "      <th>3</th>\n",
       "      <th>4</th>\n",
       "      <th>5</th>\n",
       "      <th>6</th>\n",
       "      <th>7</th>\n",
       "      <th>8</th>\n",
       "      <th>9</th>\n",
       "      <th>10</th>\n",
       "      <th>...</th>\n",
       "      <th>142</th>\n",
       "      <th>143</th>\n",
       "      <th>144</th>\n",
       "      <th>145</th>\n",
       "      <th>146</th>\n",
       "      <th>147</th>\n",
       "      <th>148</th>\n",
       "      <th>149</th>\n",
       "      <th>150</th>\n",
       "      <th>151</th>\n",
       "    </tr>\n",
       "  </thead>\n",
       "  <tbody>\n",
       "    <tr>\n",
       "      <th>0</th>\n",
       "      <td>1</td>\n",
       "      <td>-0.919229</td>\n",
       "      <td>-1.380718</td>\n",
       "      <td>-1.124147</td>\n",
       "      <td>-0.729663</td>\n",
       "      <td>-0.817537</td>\n",
       "      <td>-1.213585</td>\n",
       "      <td>-1.292274</td>\n",
       "      <td>-0.801226</td>\n",
       "      <td>-0.080372</td>\n",
       "      <td>...</td>\n",
       "      <td>0.247962</td>\n",
       "      <td>-0.858389</td>\n",
       "      <td>-2.082738</td>\n",
       "      <td>-2.164006</td>\n",
       "      <td>-0.928395</td>\n",
       "      <td>0.486746</td>\n",
       "      <td>0.880277</td>\n",
       "      <td>0.134915</td>\n",
       "      <td>-0.949618</td>\n",
       "      <td>-1.546702</td>\n",
       "    </tr>\n",
       "    <tr>\n",
       "      <th>1</th>\n",
       "      <td>1</td>\n",
       "      <td>0.925647</td>\n",
       "      <td>0.667600</td>\n",
       "      <td>0.291659</td>\n",
       "      <td>0.223115</td>\n",
       "      <td>0.295247</td>\n",
       "      <td>0.392524</td>\n",
       "      <td>0.957851</td>\n",
       "      <td>2.070606</td>\n",
       "      <td>2.635877</td>\n",
       "      <td>...</td>\n",
       "      <td>-0.879356</td>\n",
       "      <td>-0.762943</td>\n",
       "      <td>0.140491</td>\n",
       "      <td>1.201332</td>\n",
       "      <td>1.589458</td>\n",
       "      <td>1.140753</td>\n",
       "      <td>0.312094</td>\n",
       "      <td>-0.412227</td>\n",
       "      <td>-0.750518</td>\n",
       "      <td>-0.571281</td>\n",
       "    </tr>\n",
       "    <tr>\n",
       "      <th>2</th>\n",
       "      <td>1</td>\n",
       "      <td>-0.337402</td>\n",
       "      <td>0.367344</td>\n",
       "      <td>1.726566</td>\n",
       "      <td>2.420437</td>\n",
       "      <td>1.574213</td>\n",
       "      <td>0.209781</td>\n",
       "      <td>-0.176053</td>\n",
       "      <td>0.267794</td>\n",
       "      <td>0.252293</td>\n",
       "      <td>...</td>\n",
       "      <td>-0.213049</td>\n",
       "      <td>0.288395</td>\n",
       "      <td>0.901006</td>\n",
       "      <td>0.768329</td>\n",
       "      <td>0.336552</td>\n",
       "      <td>0.655676</td>\n",
       "      <td>1.653647</td>\n",
       "      <td>2.188109</td>\n",
       "      <td>1.764756</td>\n",
       "      <td>1.147146</td>\n",
       "    </tr>\n",
       "    <tr>\n",
       "      <th>3</th>\n",
       "      <td>1</td>\n",
       "      <td>-0.130009</td>\n",
       "      <td>0.238220</td>\n",
       "      <td>0.835611</td>\n",
       "      <td>1.118757</td>\n",
       "      <td>0.807759</td>\n",
       "      <td>0.373482</td>\n",
       "      <td>0.198794</td>\n",
       "      <td>-0.004598</td>\n",
       "      <td>-0.408918</td>\n",
       "      <td>...</td>\n",
       "      <td>-1.409317</td>\n",
       "      <td>-0.713858</td>\n",
       "      <td>-0.084495</td>\n",
       "      <td>-0.338215</td>\n",
       "      <td>-0.667759</td>\n",
       "      <td>-0.210293</td>\n",
       "      <td>0.310210</td>\n",
       "      <td>-0.116875</td>\n",
       "      <td>-0.790848</td>\n",
       "      <td>-0.271671</td>\n",
       "    </tr>\n",
       "    <tr>\n",
       "      <th>4</th>\n",
       "      <td>1</td>\n",
       "      <td>0.586681</td>\n",
       "      <td>0.406013</td>\n",
       "      <td>0.399015</td>\n",
       "      <td>0.958450</td>\n",
       "      <td>1.591712</td>\n",
       "      <td>1.449305</td>\n",
       "      <td>0.598255</td>\n",
       "      <td>-0.017460</td>\n",
       "      <td>0.138447</td>\n",
       "      <td>...</td>\n",
       "      <td>0.844724</td>\n",
       "      <td>0.394012</td>\n",
       "      <td>-0.077335</td>\n",
       "      <td>0.029243</td>\n",
       "      <td>0.523625</td>\n",
       "      <td>0.525145</td>\n",
       "      <td>-0.258986</td>\n",
       "      <td>-1.040792</td>\n",
       "      <td>-0.954833</td>\n",
       "      <td>-0.064465</td>\n",
       "    </tr>\n",
       "  </tbody>\n",
       "</table>\n",
       "<p>5 rows × 151 columns</p>\n",
       "</div>"
      ],
      "text/plain": [
       "   0         2         3         4         5         6         7         8    \\\n",
       "0    1 -0.919229 -1.380718 -1.124147 -0.729663 -0.817537 -1.213585 -1.292274   \n",
       "1    1  0.925647  0.667600  0.291659  0.223115  0.295247  0.392524  0.957851   \n",
       "2    1 -0.337402  0.367344  1.726566  2.420437  1.574213  0.209781 -0.176053   \n",
       "3    1 -0.130009  0.238220  0.835611  1.118757  0.807759  0.373482  0.198794   \n",
       "4    1  0.586681  0.406013  0.399015  0.958450  1.591712  1.449305  0.598255   \n",
       "\n",
       "        9         10   ...       142       143       144       145       146  \\\n",
       "0 -0.801226 -0.080372  ...  0.247962 -0.858389 -2.082738 -2.164006 -0.928395   \n",
       "1  2.070606  2.635877  ... -0.879356 -0.762943  0.140491  1.201332  1.589458   \n",
       "2  0.267794  0.252293  ... -0.213049  0.288395  0.901006  0.768329  0.336552   \n",
       "3 -0.004598 -0.408918  ... -1.409317 -0.713858 -0.084495 -0.338215 -0.667759   \n",
       "4 -0.017460  0.138447  ...  0.844724  0.394012 -0.077335  0.029243  0.523625   \n",
       "\n",
       "        147       148       149       150       151  \n",
       "0  0.486746  0.880277  0.134915 -0.949618 -1.546702  \n",
       "1  1.140753  0.312094 -0.412227 -0.750518 -0.571281  \n",
       "2  0.655676  1.653647  2.188109  1.764756  1.147146  \n",
       "3 -0.210293  0.310210 -0.116875 -0.790848 -0.271671  \n",
       "4  0.525145 -0.258986 -1.040792 -0.954833 -0.064465  \n",
       "\n",
       "[5 rows x 151 columns]"
      ]
     },
     "execution_count": 10,
     "metadata": {},
     "output_type": "execute_result"
    }
   ],
   "source": [
    "p300yam = pd.read_csv('YamuniFlechasFeatures2.txt', sep = \"\\t\", header = None)\n",
    "useless_rows = []\n",
    "for index, row in p300yam.iterrows():\n",
    "    if row[1] == 0:\n",
    "        useless_rows.append(index)\n",
    "\n",
    "p300yam = p300yam.drop(useless_rows)\n",
    "p300yam = p300yam.drop([1,152], axis=1)\n",
    "p300yam = p300yam.reset_index(drop = True)\n",
    "p300yam.head()"
   ]
  },
  {
   "cell_type": "markdown",
   "id": "0f8ed2be",
   "metadata": {},
   "source": [
    "### Function for CV"
   ]
  },
  {
   "cell_type": "code",
   "execution_count": 11,
   "id": "12f07800",
   "metadata": {},
   "outputs": [],
   "source": [
    "def p300yam_cross_validate(classifier, hyperparameters):\n",
    "    \n",
    "    p300yam_target = p300yam.iloc[:,0]\n",
    "    p300yam_data = p300yam.iloc[:,1:]\n",
    "    \n",
    "    n_folds = 5\n",
    "    kf = StratifiedKFold(n_splits=n_folds, shuffle = True)\n",
    "\n",
    "    acc = 0\n",
    "    recall = np.array([0., 0.])\n",
    "    precision = np.array([0., 0.])\n",
    "\n",
    "    y_true = []\n",
    "    y_pred = []\n",
    "    \n",
    "    param_grid = hyperparameters\n",
    "    \n",
    "    grid_search = GridSearchCV(classifier, param_grid, cv=kf)\n",
    "\n",
    "    stratifiedkfold(kf, grid_search, y_true, y_pred, p300yam_data, p300yam_target)\n",
    "\n",
    "    class_names = [\"P300\", \"NoP300\"]\n",
    "    report = classification_report(np.concatenate(y_true), np.concatenate(y_pred), target_names = class_names)\n",
    "    report = report.replace(\"macro avg\", \"macroavg\")\n",
    "    report = report.replace(\"weighted avg\", \"weightedavg\")\n",
    "    rows = report.split('\\n')\n",
    "    rows = [row.split() for row in rows if row.strip()]\n",
    "    return tabulate(rows, headers='firstrow', tablefmt='fancy_grid')"
   ]
  },
  {
   "cell_type": "markdown",
   "id": "3f0637f7",
   "metadata": {},
   "source": [
    "### Support Vector Classifier"
   ]
  },
  {
   "cell_type": "code",
   "execution_count": 12,
   "id": "5faec569",
   "metadata": {},
   "outputs": [
    {
     "name": "stdout",
     "output_type": "stream",
     "text": [
      "Best parameters:  {'C': 1, 'kernel': 'rbf'}\n",
      "Best parameters:  {'C': 1, 'kernel': 'rbf'}\n",
      "Best parameters:  {'C': 0.1, 'kernel': 'rbf'}\n",
      "Best parameters:  {'C': 0.1, 'kernel': 'rbf'}\n",
      "Best parameters:  {'C': 1, 'kernel': 'linear'}\n",
      "╒═════════════╤═════════════╤══════════╤════════════╤═══════════╕\n",
      "│             │   precision │   recall │   f1-score │   support │\n",
      "╞═════════════╪═════════════╪══════════╪════════════╪═══════════╡\n",
      "│ P300        │        0.36 │     0.65 │       0.47 │       269 │\n",
      "├─────────────┼─────────────┼──────────┼────────────┼───────────┤\n",
      "│ NoP300      │        0.89 │     0.72 │       0.79 │      1079 │\n",
      "├─────────────┼─────────────┼──────────┼────────────┼───────────┤\n",
      "│ accuracy    │        0.7  │  1348    │            │           │\n",
      "├─────────────┼─────────────┼──────────┼────────────┼───────────┤\n",
      "│ macroavg    │        0.63 │     0.68 │       0.63 │      1348 │\n",
      "├─────────────┼─────────────┼──────────┼────────────┼───────────┤\n",
      "│ weightedavg │        0.79 │     0.7  │       0.73 │      1348 │\n",
      "╘═════════════╧═════════════╧══════════╧════════════╧═══════════╛\n"
     ]
    }
   ],
   "source": [
    "print(p300yam_cross_validate(SVC(), svc_hyperparameters))"
   ]
  },
  {
   "cell_type": "markdown",
   "id": "742b8bd1",
   "metadata": {},
   "source": [
    "### k-Nearest Neighbors"
   ]
  },
  {
   "cell_type": "code",
   "execution_count": 13,
   "id": "18f3c181",
   "metadata": {},
   "outputs": [
    {
     "name": "stdout",
     "output_type": "stream",
     "text": [
      "Best parameters:  {'metric': 'manhattan', 'n_neighbors': 3, 'weights': 'uniform'}\n",
      "Best parameters:  {'metric': 'manhattan', 'n_neighbors': 7, 'weights': 'uniform'}\n",
      "Best parameters:  {'metric': 'manhattan', 'n_neighbors': 7, 'weights': 'uniform'}\n",
      "Best parameters:  {'metric': 'manhattan', 'n_neighbors': 7, 'weights': 'uniform'}\n",
      "Best parameters:  {'metric': 'euclidean', 'n_neighbors': 3, 'weights': 'uniform'}\n",
      "╒═════════════╤═════════════╤══════════╤════════════╤═══════════╕\n",
      "│             │   precision │   recall │   f1-score │   support │\n",
      "╞═════════════╪═════════════╪══════════╪════════════╪═══════════╡\n",
      "│ P300        │        0.27 │     0.54 │       0.36 │       269 │\n",
      "├─────────────┼─────────────┼──────────┼────────────┼───────────┤\n",
      "│ NoP300      │        0.85 │     0.63 │       0.73 │      1079 │\n",
      "├─────────────┼─────────────┼──────────┼────────────┼───────────┤\n",
      "│ accuracy    │        0.61 │  1348    │            │           │\n",
      "├─────────────┼─────────────┼──────────┼────────────┼───────────┤\n",
      "│ macroavg    │        0.56 │     0.59 │       0.54 │      1348 │\n",
      "├─────────────┼─────────────┼──────────┼────────────┼───────────┤\n",
      "│ weightedavg │        0.73 │     0.61 │       0.65 │      1348 │\n",
      "╘═════════════╧═════════════╧══════════╧════════════╧═══════════╛\n"
     ]
    }
   ],
   "source": [
    "print(p300yam_cross_validate(KNeighborsClassifier(), knn_hyperparameters))"
   ]
  },
  {
   "cell_type": "markdown",
   "id": "96138061",
   "metadata": {},
   "source": [
    "### Multilayer Neural Network"
   ]
  },
  {
   "cell_type": "code",
   "execution_count": 14,
   "id": "da575c66",
   "metadata": {},
   "outputs": [
    {
     "name": "stdout",
     "output_type": "stream",
     "text": [
      "Best parameters:  {'hidden_layer_sizes': (2, 2)}\n",
      "Best parameters:  {'hidden_layer_sizes': (3, 3)}\n",
      "Best parameters:  {'hidden_layer_sizes': (2, 2)}\n",
      "Best parameters:  {'hidden_layer_sizes': (3, 3)}\n",
      "Best parameters:  {'hidden_layer_sizes': (3, 3)}\n",
      "╒═════════════╤═════════════╤══════════╤════════════╤═══════════╕\n",
      "│             │   precision │   recall │   f1-score │   support │\n",
      "╞═════════════╪═════════════╪══════════╪════════════╪═══════════╡\n",
      "│ P300        │        0.32 │     0.69 │       0.44 │       269 │\n",
      "├─────────────┼─────────────┼──────────┼────────────┼───────────┤\n",
      "│ NoP300      │        0.89 │     0.64 │       0.74 │      1079 │\n",
      "├─────────────┼─────────────┼──────────┼────────────┼───────────┤\n",
      "│ accuracy    │        0.65 │  1348    │            │           │\n",
      "├─────────────┼─────────────┼──────────┼────────────┼───────────┤\n",
      "│ macroavg    │        0.61 │     0.67 │       0.59 │      1348 │\n",
      "├─────────────┼─────────────┼──────────┼────────────┼───────────┤\n",
      "│ weightedavg │        0.78 │     0.65 │       0.68 │      1348 │\n",
      "╘═════════════╧═════════════╧══════════╧════════════╧═══════════╛\n"
     ]
    }
   ],
   "source": [
    "print(p300yam_cross_validate(MLPClassifier(max_iter=10000), mlp_hyperparameters))"
   ]
  },
  {
   "cell_type": "markdown",
   "id": "3300db0e",
   "metadata": {},
   "source": [
    "### Random Forest"
   ]
  },
  {
   "cell_type": "code",
   "execution_count": 15,
   "id": "eca3f00a",
   "metadata": {},
   "outputs": [
    {
     "name": "stdout",
     "output_type": "stream",
     "text": [
      "Best parameters:  {'n_estimators': 450}\n",
      "Best parameters:  {'n_estimators': 500}\n",
      "Best parameters:  {'n_estimators': 450}\n",
      "Best parameters:  {'n_estimators': 450}\n",
      "Best parameters:  {'n_estimators': 500}\n",
      "╒═════════════╤═════════════╤══════════╤════════════╤═══════════╕\n",
      "│             │   precision │   recall │   f1-score │   support │\n",
      "╞═════════════╪═════════════╪══════════╪════════════╪═══════════╡\n",
      "│ P300        │        0.36 │     0.72 │       0.48 │       269 │\n",
      "├─────────────┼─────────────┼──────────┼────────────┼───────────┤\n",
      "│ NoP300      │        0.91 │     0.68 │       0.77 │      1079 │\n",
      "├─────────────┼─────────────┼──────────┼────────────┼───────────┤\n",
      "│ accuracy    │        0.68 │  1348    │            │           │\n",
      "├─────────────┼─────────────┼──────────┼────────────┼───────────┤\n",
      "│ macroavg    │        0.63 │     0.7  │       0.62 │      1348 │\n",
      "├─────────────┼─────────────┼──────────┼────────────┼───────────┤\n",
      "│ weightedavg │        0.8  │     0.68 │       0.71 │      1348 │\n",
      "╘═════════════╧═════════════╧══════════╧════════════╧═══════════╛\n"
     ]
    }
   ],
   "source": [
    "print(p300yam_cross_validate(RandomForestClassifier(), rf_hyperparameters))"
   ]
  },
  {
   "cell_type": "markdown",
   "id": "191012a0",
   "metadata": {},
   "source": [
    "### Gradient Boosting"
   ]
  },
  {
   "cell_type": "code",
   "execution_count": 16,
   "id": "da533570",
   "metadata": {},
   "outputs": [
    {
     "name": "stdout",
     "output_type": "stream",
     "text": [
      "Best parameters:  {'n_estimators': 150}\n",
      "Best parameters:  {'n_estimators': 200}\n",
      "Best parameters:  {'n_estimators': 150}\n",
      "Best parameters:  {'n_estimators': 200}\n",
      "Best parameters:  {'n_estimators': 150}\n",
      "╒═════════════╤═════════════╤══════════╤════════════╤═══════════╕\n",
      "│             │   precision │   recall │   f1-score │   support │\n",
      "╞═════════════╪═════════════╪══════════╪════════════╪═══════════╡\n",
      "│ P300        │        0.34 │     0.65 │       0.45 │       269 │\n",
      "├─────────────┼─────────────┼──────────┼────────────┼───────────┤\n",
      "│ NoP300      │        0.89 │     0.68 │       0.77 │      1079 │\n",
      "├─────────────┼─────────────┼──────────┼────────────┼───────────┤\n",
      "│ accuracy    │        0.67 │  1348    │            │           │\n",
      "├─────────────┼─────────────┼──────────┼────────────┼───────────┤\n",
      "│ macroavg    │        0.61 │     0.67 │       0.61 │      1348 │\n",
      "├─────────────┼─────────────┼──────────┼────────────┼───────────┤\n",
      "│ weightedavg │        0.78 │     0.67 │       0.7  │      1348 │\n",
      "╘═════════════╧═════════════╧══════════╧════════════╧═══════════╛\n"
     ]
    }
   ],
   "source": [
    "print(p300yam_cross_validate(GradientBoostingClassifier(), xgb_hyperparameters))"
   ]
  },
  {
   "cell_type": "markdown",
   "id": "b9fb48fb",
   "metadata": {},
   "source": [
    "## Cognitive Tasks (Two Classes)"
   ]
  },
  {
   "cell_type": "markdown",
   "id": "c400688e",
   "metadata": {},
   "source": [
    "### Archivo Michel"
   ]
  },
  {
   "cell_type": "code",
   "execution_count": 17,
   "id": "dfffbafd",
   "metadata": {},
   "outputs": [
    {
     "data": {
      "text/html": [
       "<div>\n",
       "<style scoped>\n",
       "    .dataframe tbody tr th:only-of-type {\n",
       "        vertical-align: middle;\n",
       "    }\n",
       "\n",
       "    .dataframe tbody tr th {\n",
       "        vertical-align: top;\n",
       "    }\n",
       "\n",
       "    .dataframe thead th {\n",
       "        text-align: right;\n",
       "    }\n",
       "</style>\n",
       "<table border=\"1\" class=\"dataframe\">\n",
       "  <thead>\n",
       "    <tr style=\"text-align: right;\">\n",
       "      <th></th>\n",
       "      <th>0</th>\n",
       "      <th>2</th>\n",
       "      <th>3</th>\n",
       "      <th>4</th>\n",
       "      <th>5</th>\n",
       "      <th>6</th>\n",
       "      <th>7</th>\n",
       "      <th>8</th>\n",
       "      <th>9</th>\n",
       "      <th>10</th>\n",
       "      <th>...</th>\n",
       "      <th>208</th>\n",
       "      <th>209</th>\n",
       "      <th>210</th>\n",
       "      <th>211</th>\n",
       "      <th>212</th>\n",
       "      <th>213</th>\n",
       "      <th>214</th>\n",
       "      <th>215</th>\n",
       "      <th>216</th>\n",
       "      <th>217</th>\n",
       "    </tr>\n",
       "  </thead>\n",
       "  <tbody>\n",
       "    <tr>\n",
       "      <th>0</th>\n",
       "      <td>1</td>\n",
       "      <td>8.889212</td>\n",
       "      <td>10.181752</td>\n",
       "      <td>8.503275</td>\n",
       "      <td>7.361181</td>\n",
       "      <td>6.100860</td>\n",
       "      <td>6.291361</td>\n",
       "      <td>4.656164</td>\n",
       "      <td>4.174572</td>\n",
       "      <td>10.313213</td>\n",
       "      <td>...</td>\n",
       "      <td>1.842248</td>\n",
       "      <td>1.854458</td>\n",
       "      <td>0.571283</td>\n",
       "      <td>0.964798</td>\n",
       "      <td>0.929418</td>\n",
       "      <td>1.552971</td>\n",
       "      <td>1.296322</td>\n",
       "      <td>1.023829</td>\n",
       "      <td>1.673087</td>\n",
       "      <td>1.510133</td>\n",
       "    </tr>\n",
       "    <tr>\n",
       "      <th>1</th>\n",
       "      <td>1</td>\n",
       "      <td>5.652767</td>\n",
       "      <td>8.042858</td>\n",
       "      <td>3.247380</td>\n",
       "      <td>4.134670</td>\n",
       "      <td>3.162395</td>\n",
       "      <td>9.280908</td>\n",
       "      <td>4.457860</td>\n",
       "      <td>4.711377</td>\n",
       "      <td>7.119301</td>\n",
       "      <td>...</td>\n",
       "      <td>2.245265</td>\n",
       "      <td>2.127966</td>\n",
       "      <td>1.155517</td>\n",
       "      <td>1.398074</td>\n",
       "      <td>0.632108</td>\n",
       "      <td>1.389232</td>\n",
       "      <td>1.681869</td>\n",
       "      <td>1.605331</td>\n",
       "      <td>2.264162</td>\n",
       "      <td>2.176949</td>\n",
       "    </tr>\n",
       "    <tr>\n",
       "      <th>2</th>\n",
       "      <td>1</td>\n",
       "      <td>4.104936</td>\n",
       "      <td>7.174717</td>\n",
       "      <td>4.713861</td>\n",
       "      <td>5.536530</td>\n",
       "      <td>5.891949</td>\n",
       "      <td>4.063717</td>\n",
       "      <td>3.889408</td>\n",
       "      <td>4.984165</td>\n",
       "      <td>4.448951</td>\n",
       "      <td>...</td>\n",
       "      <td>1.122711</td>\n",
       "      <td>0.781695</td>\n",
       "      <td>0.687759</td>\n",
       "      <td>0.432641</td>\n",
       "      <td>0.441181</td>\n",
       "      <td>1.244465</td>\n",
       "      <td>0.679333</td>\n",
       "      <td>0.726530</td>\n",
       "      <td>1.093091</td>\n",
       "      <td>0.795292</td>\n",
       "    </tr>\n",
       "    <tr>\n",
       "      <th>3</th>\n",
       "      <td>1</td>\n",
       "      <td>19.788445</td>\n",
       "      <td>15.877236</td>\n",
       "      <td>22.369973</td>\n",
       "      <td>20.095686</td>\n",
       "      <td>15.335189</td>\n",
       "      <td>22.178942</td>\n",
       "      <td>4.841323</td>\n",
       "      <td>6.310983</td>\n",
       "      <td>20.518696</td>\n",
       "      <td>...</td>\n",
       "      <td>1.461832</td>\n",
       "      <td>0.739749</td>\n",
       "      <td>0.722074</td>\n",
       "      <td>0.527056</td>\n",
       "      <td>1.162233</td>\n",
       "      <td>1.249377</td>\n",
       "      <td>1.274189</td>\n",
       "      <td>0.873493</td>\n",
       "      <td>1.513659</td>\n",
       "      <td>0.701651</td>\n",
       "    </tr>\n",
       "    <tr>\n",
       "      <th>4</th>\n",
       "      <td>1</td>\n",
       "      <td>28.094811</td>\n",
       "      <td>12.783838</td>\n",
       "      <td>4.219859</td>\n",
       "      <td>7.865875</td>\n",
       "      <td>8.862163</td>\n",
       "      <td>15.560597</td>\n",
       "      <td>9.503334</td>\n",
       "      <td>3.914084</td>\n",
       "      <td>35.476962</td>\n",
       "      <td>...</td>\n",
       "      <td>1.188925</td>\n",
       "      <td>1.403753</td>\n",
       "      <td>0.598690</td>\n",
       "      <td>0.525371</td>\n",
       "      <td>0.425958</td>\n",
       "      <td>1.021527</td>\n",
       "      <td>0.860188</td>\n",
       "      <td>0.894223</td>\n",
       "      <td>1.108798</td>\n",
       "      <td>1.328624</td>\n",
       "    </tr>\n",
       "  </tbody>\n",
       "</table>\n",
       "<p>5 rows × 217 columns</p>\n",
       "</div>"
      ],
      "text/plain": [
       "   0          2          3          4          5          6          7    \\\n",
       "0    1   8.889212  10.181752   8.503275   7.361181   6.100860   6.291361   \n",
       "1    1   5.652767   8.042858   3.247380   4.134670   3.162395   9.280908   \n",
       "2    1   4.104936   7.174717   4.713861   5.536530   5.891949   4.063717   \n",
       "3    1  19.788445  15.877236  22.369973  20.095686  15.335189  22.178942   \n",
       "4    1  28.094811  12.783838   4.219859   7.865875   8.862163  15.560597   \n",
       "\n",
       "        8         9          10   ...       208       209       210       211  \\\n",
       "0  4.656164  4.174572  10.313213  ...  1.842248  1.854458  0.571283  0.964798   \n",
       "1  4.457860  4.711377   7.119301  ...  2.245265  2.127966  1.155517  1.398074   \n",
       "2  3.889408  4.984165   4.448951  ...  1.122711  0.781695  0.687759  0.432641   \n",
       "3  4.841323  6.310983  20.518696  ...  1.461832  0.739749  0.722074  0.527056   \n",
       "4  9.503334  3.914084  35.476962  ...  1.188925  1.403753  0.598690  0.525371   \n",
       "\n",
       "        212       213       214       215       216       217  \n",
       "0  0.929418  1.552971  1.296322  1.023829  1.673087  1.510133  \n",
       "1  0.632108  1.389232  1.681869  1.605331  2.264162  2.176949  \n",
       "2  0.441181  1.244465  0.679333  0.726530  1.093091  0.795292  \n",
       "3  1.162233  1.249377  1.274189  0.873493  1.513659  0.701651  \n",
       "4  0.425958  1.021527  0.860188  0.894223  1.108798  1.328624  \n",
       "\n",
       "[5 rows x 217 columns]"
      ]
     },
     "execution_count": 17,
     "metadata": {},
     "output_type": "execute_result"
    }
   ],
   "source": [
    "ctmich = pd.read_csv('MichTareasFeatures.txt', sep = \"\\t\", header = None)\n",
    "useless_rows = []\n",
    "for index, row in ctmich.iterrows():\n",
    "    if row[1] == 0:\n",
    "        useless_rows.append(index)\n",
    "\n",
    "ctmich = ctmich.drop(useless_rows)\n",
    "ctmich = ctmich.drop([1,218], axis=1)\n",
    "ctmich = ctmich.reset_index(drop = True)\n",
    "\n",
    "for index, row in ctmich.iterrows():\n",
    "    if row[0] in [1, 2, 3, 4, 5, 6, 7, 8, 9, 10, 11, 12]:\n",
    "        ctmich.at[index, 0] = 1\n",
    "    else:\n",
    "        ctmich.at[index, 0] = 0\n",
    "        \n",
    "ctmich.head()"
   ]
  },
  {
   "cell_type": "markdown",
   "id": "f69ecfad",
   "metadata": {},
   "source": [
    "### Function for CV"
   ]
  },
  {
   "cell_type": "code",
   "execution_count": 18,
   "id": "adf81d82",
   "metadata": {},
   "outputs": [],
   "source": [
    "def ctmich_cross_validate(classifier, hyperparameters):\n",
    "    \n",
    "    ctmich_target = ctmich.iloc[:,0]\n",
    "    ctmich_data = ctmich.iloc[:,1:]\n",
    "    \n",
    "    n_folds = 5\n",
    "    kf = StratifiedKFold(n_splits=n_folds, shuffle = True)\n",
    "\n",
    "    acc = 0\n",
    "    recall = np.array([0., 0.])\n",
    "    precision = np.array([0., 0.])\n",
    "\n",
    "    y_true = []\n",
    "    y_pred = []\n",
    "    \n",
    "    param_grid = hyperparameters\n",
    "    \n",
    "    grid_search = GridSearchCV(classifier, param_grid, cv=kf)\n",
    "\n",
    "    stratifiedkfold(kf, grid_search, y_true, y_pred, ctmich_data, ctmich_target)\n",
    "\n",
    "    class_names = [\"NoTask\", \"Task\"]\n",
    "    report = classification_report(np.concatenate(y_true), np.concatenate(y_pred), target_names = class_names)\n",
    "    report = report.replace(\"macro avg\", \"macroavg\")\n",
    "    report = report.replace(\"weighted avg\", \"weightedavg\")\n",
    "    rows = report.split('\\n')\n",
    "    rows = [row.split() for row in rows if row.strip()]\n",
    "    return tabulate(rows, headers='firstrow', tablefmt='fancy_grid')"
   ]
  },
  {
   "cell_type": "markdown",
   "id": "e325d716",
   "metadata": {},
   "source": [
    "### Support Vector Classifier"
   ]
  },
  {
   "cell_type": "code",
   "execution_count": 19,
   "id": "ee705f11",
   "metadata": {},
   "outputs": [
    {
     "name": "stdout",
     "output_type": "stream",
     "text": [
      "Best parameters:  {'C': 1, 'kernel': 'linear'}\n",
      "Best parameters:  {'C': 10, 'kernel': 'rbf'}\n",
      "Best parameters:  {'C': 1, 'kernel': 'linear'}\n",
      "Best parameters:  {'C': 1, 'kernel': 'linear'}\n",
      "Best parameters:  {'C': 10, 'kernel': 'rbf'}\n",
      "╒═════════════╤═════════════╤══════════╤════════════╤═══════════╕\n",
      "│             │   precision │   recall │   f1-score │   support │\n",
      "╞═════════════╪═════════════╪══════════╪════════════╪═══════════╡\n",
      "│ NoTask      │        0.51 │     0.61 │       0.55 │        75 │\n",
      "├─────────────┼─────────────┼──────────┼────────────┼───────────┤\n",
      "│ Task        │        0.75 │     0.65 │       0.7  │       130 │\n",
      "├─────────────┼─────────────┼──────────┼────────────┼───────────┤\n",
      "│ accuracy    │        0.64 │   205    │            │           │\n",
      "├─────────────┼─────────────┼──────────┼────────────┼───────────┤\n",
      "│ macroavg    │        0.63 │     0.63 │       0.63 │       205 │\n",
      "├─────────────┼─────────────┼──────────┼────────────┼───────────┤\n",
      "│ weightedavg │        0.66 │     0.64 │       0.64 │       205 │\n",
      "╘═════════════╧═════════════╧══════════╧════════════╧═══════════╛\n"
     ]
    }
   ],
   "source": [
    "print(ctmich_cross_validate(SVC(), svc_hyperparameters))"
   ]
  },
  {
   "cell_type": "markdown",
   "id": "1864cc22",
   "metadata": {},
   "source": [
    "### k-Nearest Neighbors"
   ]
  },
  {
   "cell_type": "code",
   "execution_count": 20,
   "id": "96a61285",
   "metadata": {},
   "outputs": [
    {
     "name": "stdout",
     "output_type": "stream",
     "text": [
      "Best parameters:  {'metric': 'manhattan', 'n_neighbors': 7, 'weights': 'uniform'}\n",
      "Best parameters:  {'metric': 'euclidean', 'n_neighbors': 3, 'weights': 'uniform'}\n",
      "Best parameters:  {'metric': 'euclidean', 'n_neighbors': 5, 'weights': 'uniform'}\n",
      "Best parameters:  {'metric': 'euclidean', 'n_neighbors': 7, 'weights': 'uniform'}\n",
      "Best parameters:  {'metric': 'manhattan', 'n_neighbors': 5, 'weights': 'uniform'}\n",
      "╒═════════════╤═════════════╤══════════╤════════════╤═══════════╕\n",
      "│             │   precision │   recall │   f1-score │   support │\n",
      "╞═════════════╪═════════════╪══════════╪════════════╪═══════════╡\n",
      "│ NoTask      │        0.44 │     0.59 │       0.51 │        75 │\n",
      "├─────────────┼─────────────┼──────────┼────────────┼───────────┤\n",
      "│ Task        │        0.71 │     0.58 │       0.64 │       130 │\n",
      "├─────────────┼─────────────┼──────────┼────────────┼───────────┤\n",
      "│ accuracy    │        0.58 │   205    │            │           │\n",
      "├─────────────┼─────────────┼──────────┼────────────┼───────────┤\n",
      "│ macroavg    │        0.58 │     0.58 │       0.57 │       205 │\n",
      "├─────────────┼─────────────┼──────────┼────────────┼───────────┤\n",
      "│ weightedavg │        0.61 │     0.58 │       0.59 │       205 │\n",
      "╘═════════════╧═════════════╧══════════╧════════════╧═══════════╛\n"
     ]
    }
   ],
   "source": [
    "print(ctmich_cross_validate(KNeighborsClassifier(), knn_hyperparameters))"
   ]
  },
  {
   "cell_type": "markdown",
   "id": "9f77666f",
   "metadata": {},
   "source": [
    "### Multilayer Neural Network"
   ]
  },
  {
   "cell_type": "code",
   "execution_count": 21,
   "id": "0c38f8b8",
   "metadata": {},
   "outputs": [
    {
     "name": "stdout",
     "output_type": "stream",
     "text": [
      "Best parameters:  {'hidden_layer_sizes': (3, 3)}\n",
      "Best parameters:  {'hidden_layer_sizes': (2, 2)}\n",
      "Best parameters:  {'hidden_layer_sizes': (3, 3)}\n",
      "Best parameters:  {'hidden_layer_sizes': (2, 2)}\n",
      "Best parameters:  {'hidden_layer_sizes': (3, 3)}\n",
      "╒═════════════╤═════════════╤══════════╤════════════╤═══════════╕\n",
      "│             │   precision │   recall │   f1-score │   support │\n",
      "╞═════════════╪═════════════╪══════════╪════════════╪═══════════╡\n",
      "│ NoTask      │        0.41 │     0.55 │       0.47 │        75 │\n",
      "├─────────────┼─────────────┼──────────┼────────────┼───────────┤\n",
      "│ Task        │        0.67 │     0.54 │       0.6  │       130 │\n",
      "├─────────────┼─────────────┼──────────┼────────────┼───────────┤\n",
      "│ accuracy    │        0.54 │   205    │            │           │\n",
      "├─────────────┼─────────────┼──────────┼────────────┼───────────┤\n",
      "│ macroavg    │        0.54 │     0.54 │       0.53 │       205 │\n",
      "├─────────────┼─────────────┼──────────┼────────────┼───────────┤\n",
      "│ weightedavg │        0.58 │     0.54 │       0.55 │       205 │\n",
      "╘═════════════╧═════════════╧══════════╧════════════╧═══════════╛\n"
     ]
    }
   ],
   "source": [
    "print(ctmich_cross_validate(MLPClassifier(max_iter=10000), mlp_hyperparameters))"
   ]
  },
  {
   "cell_type": "markdown",
   "id": "53835a3b",
   "metadata": {},
   "source": [
    "### Random Forest"
   ]
  },
  {
   "cell_type": "code",
   "execution_count": 22,
   "id": "980216d7",
   "metadata": {},
   "outputs": [
    {
     "name": "stdout",
     "output_type": "stream",
     "text": [
      "Best parameters:  {'n_estimators': 450}\n",
      "Best parameters:  {'n_estimators': 500}\n",
      "Best parameters:  {'n_estimators': 450}\n",
      "Best parameters:  {'n_estimators': 450}\n",
      "Best parameters:  {'n_estimators': 450}\n",
      "╒═════════════╤═════════════╤══════════╤════════════╤═══════════╕\n",
      "│             │   precision │   recall │   f1-score │   support │\n",
      "╞═════════════╪═════════════╪══════════╪════════════╪═══════════╡\n",
      "│ NoTask      │        0.48 │     0.59 │       0.53 │        75 │\n",
      "├─────────────┼─────────────┼──────────┼────────────┼───────────┤\n",
      "│ Task        │        0.73 │     0.63 │       0.67 │       130 │\n",
      "├─────────────┼─────────────┼──────────┼────────────┼───────────┤\n",
      "│ accuracy    │        0.61 │   205    │            │           │\n",
      "├─────────────┼─────────────┼──────────┼────────────┼───────────┤\n",
      "│ macroavg    │        0.6  │     0.61 │       0.6  │       205 │\n",
      "├─────────────┼─────────────┼──────────┼────────────┼───────────┤\n",
      "│ weightedavg │        0.64 │     0.61 │       0.62 │       205 │\n",
      "╘═════════════╧═════════════╧══════════╧════════════╧═══════════╛\n"
     ]
    }
   ],
   "source": [
    "print(ctmich_cross_validate(RandomForestClassifier(), rf_hyperparameters))"
   ]
  },
  {
   "cell_type": "markdown",
   "id": "6486bb65",
   "metadata": {},
   "source": [
    "### Gradient Boosting"
   ]
  },
  {
   "cell_type": "code",
   "execution_count": 23,
   "id": "f13364e4",
   "metadata": {},
   "outputs": [
    {
     "name": "stdout",
     "output_type": "stream",
     "text": [
      "Best parameters:  {'n_estimators': 200}\n",
      "Best parameters:  {'n_estimators': 150}\n",
      "Best parameters:  {'n_estimators': 150}\n",
      "Best parameters:  {'n_estimators': 200}\n",
      "Best parameters:  {'n_estimators': 200}\n",
      "╒═════════════╤═════════════╤══════════╤════════════╤═══════════╕\n",
      "│             │   precision │   recall │   f1-score │   support │\n",
      "╞═════════════╪═════════════╪══════════╪════════════╪═══════════╡\n",
      "│ NoTask      │        0.41 │     0.51 │       0.45 │        75 │\n",
      "├─────────────┼─────────────┼──────────┼────────────┼───────────┤\n",
      "│ Task        │        0.67 │     0.58 │       0.62 │       130 │\n",
      "├─────────────┼─────────────┼──────────┼────────────┼───────────┤\n",
      "│ accuracy    │        0.55 │   205    │            │           │\n",
      "├─────────────┼─────────────┼──────────┼────────────┼───────────┤\n",
      "│ macroavg    │        0.54 │     0.54 │       0.54 │       205 │\n",
      "├─────────────┼─────────────┼──────────┼────────────┼───────────┤\n",
      "│ weightedavg │        0.57 │     0.55 │       0.56 │       205 │\n",
      "╘═════════════╧═════════════╧══════════╧════════════╧═══════════╛\n"
     ]
    }
   ],
   "source": [
    "print(ctmich_cross_validate(GradientBoostingClassifier(), xgb_hyperparameters))"
   ]
  },
  {
   "cell_type": "markdown",
   "id": "eea49442",
   "metadata": {},
   "source": [
    "### Archivo Yamuni"
   ]
  },
  {
   "cell_type": "code",
   "execution_count": 24,
   "id": "a5aa7188",
   "metadata": {},
   "outputs": [
    {
     "data": {
      "text/html": [
       "<div>\n",
       "<style scoped>\n",
       "    .dataframe tbody tr th:only-of-type {\n",
       "        vertical-align: middle;\n",
       "    }\n",
       "\n",
       "    .dataframe tbody tr th {\n",
       "        vertical-align: top;\n",
       "    }\n",
       "\n",
       "    .dataframe thead th {\n",
       "        text-align: right;\n",
       "    }\n",
       "</style>\n",
       "<table border=\"1\" class=\"dataframe\">\n",
       "  <thead>\n",
       "    <tr style=\"text-align: right;\">\n",
       "      <th></th>\n",
       "      <th>0</th>\n",
       "      <th>2</th>\n",
       "      <th>3</th>\n",
       "      <th>4</th>\n",
       "      <th>5</th>\n",
       "      <th>6</th>\n",
       "      <th>7</th>\n",
       "      <th>8</th>\n",
       "      <th>9</th>\n",
       "      <th>10</th>\n",
       "      <th>...</th>\n",
       "      <th>208</th>\n",
       "      <th>209</th>\n",
       "      <th>210</th>\n",
       "      <th>211</th>\n",
       "      <th>212</th>\n",
       "      <th>213</th>\n",
       "      <th>214</th>\n",
       "      <th>215</th>\n",
       "      <th>216</th>\n",
       "      <th>217</th>\n",
       "    </tr>\n",
       "  </thead>\n",
       "  <tbody>\n",
       "    <tr>\n",
       "      <th>0</th>\n",
       "      <td>1</td>\n",
       "      <td>4.082759</td>\n",
       "      <td>3.540026</td>\n",
       "      <td>6.813089</td>\n",
       "      <td>1.644179</td>\n",
       "      <td>1.928761</td>\n",
       "      <td>4.578276</td>\n",
       "      <td>2.663328</td>\n",
       "      <td>1.685491</td>\n",
       "      <td>5.154945</td>\n",
       "      <td>...</td>\n",
       "      <td>2.011693</td>\n",
       "      <td>2.781110</td>\n",
       "      <td>0.623268</td>\n",
       "      <td>1.017995</td>\n",
       "      <td>0.620958</td>\n",
       "      <td>1.085525</td>\n",
       "      <td>1.539800</td>\n",
       "      <td>1.575473</td>\n",
       "      <td>1.759159</td>\n",
       "      <td>2.582784</td>\n",
       "    </tr>\n",
       "    <tr>\n",
       "      <th>1</th>\n",
       "      <td>1</td>\n",
       "      <td>17.997407</td>\n",
       "      <td>4.182849</td>\n",
       "      <td>16.891554</td>\n",
       "      <td>3.791352</td>\n",
       "      <td>2.737425</td>\n",
       "      <td>4.041567</td>\n",
       "      <td>2.842607</td>\n",
       "      <td>3.290411</td>\n",
       "      <td>19.564377</td>\n",
       "      <td>...</td>\n",
       "      <td>1.643242</td>\n",
       "      <td>1.771910</td>\n",
       "      <td>1.771657</td>\n",
       "      <td>2.487338</td>\n",
       "      <td>1.780088</td>\n",
       "      <td>1.575420</td>\n",
       "      <td>1.510829</td>\n",
       "      <td>1.847450</td>\n",
       "      <td>1.592856</td>\n",
       "      <td>1.645893</td>\n",
       "    </tr>\n",
       "    <tr>\n",
       "      <th>2</th>\n",
       "      <td>1</td>\n",
       "      <td>6.645055</td>\n",
       "      <td>2.804339</td>\n",
       "      <td>5.159441</td>\n",
       "      <td>3.592543</td>\n",
       "      <td>2.646521</td>\n",
       "      <td>1.565106</td>\n",
       "      <td>2.257845</td>\n",
       "      <td>3.229605</td>\n",
       "      <td>6.922075</td>\n",
       "      <td>...</td>\n",
       "      <td>2.563288</td>\n",
       "      <td>3.320609</td>\n",
       "      <td>0.794643</td>\n",
       "      <td>0.812260</td>\n",
       "      <td>0.925568</td>\n",
       "      <td>1.099832</td>\n",
       "      <td>1.348091</td>\n",
       "      <td>1.324041</td>\n",
       "      <td>2.312848</td>\n",
       "      <td>3.191038</td>\n",
       "    </tr>\n",
       "    <tr>\n",
       "      <th>3</th>\n",
       "      <td>1</td>\n",
       "      <td>9.860660</td>\n",
       "      <td>4.002138</td>\n",
       "      <td>9.453912</td>\n",
       "      <td>3.520290</td>\n",
       "      <td>4.903570</td>\n",
       "      <td>4.600238</td>\n",
       "      <td>5.796736</td>\n",
       "      <td>6.239554</td>\n",
       "      <td>11.612068</td>\n",
       "      <td>...</td>\n",
       "      <td>1.603800</td>\n",
       "      <td>2.179609</td>\n",
       "      <td>1.369098</td>\n",
       "      <td>1.533471</td>\n",
       "      <td>0.997768</td>\n",
       "      <td>1.436147</td>\n",
       "      <td>1.539725</td>\n",
       "      <td>1.451312</td>\n",
       "      <td>1.481863</td>\n",
       "      <td>1.940598</td>\n",
       "    </tr>\n",
       "    <tr>\n",
       "      <th>4</th>\n",
       "      <td>1</td>\n",
       "      <td>3.546819</td>\n",
       "      <td>2.251571</td>\n",
       "      <td>7.206801</td>\n",
       "      <td>3.309408</td>\n",
       "      <td>2.760355</td>\n",
       "      <td>4.053771</td>\n",
       "      <td>2.604074</td>\n",
       "      <td>1.768247</td>\n",
       "      <td>3.601283</td>\n",
       "      <td>...</td>\n",
       "      <td>1.006246</td>\n",
       "      <td>1.812694</td>\n",
       "      <td>0.867581</td>\n",
       "      <td>0.685329</td>\n",
       "      <td>0.585637</td>\n",
       "      <td>0.508474</td>\n",
       "      <td>0.811307</td>\n",
       "      <td>0.825016</td>\n",
       "      <td>0.722866</td>\n",
       "      <td>1.442172</td>\n",
       "    </tr>\n",
       "  </tbody>\n",
       "</table>\n",
       "<p>5 rows × 217 columns</p>\n",
       "</div>"
      ],
      "text/plain": [
       "   0          2         3          4         5         6         7    \\\n",
       "0    1   4.082759  3.540026   6.813089  1.644179  1.928761  4.578276   \n",
       "1    1  17.997407  4.182849  16.891554  3.791352  2.737425  4.041567   \n",
       "2    1   6.645055  2.804339   5.159441  3.592543  2.646521  1.565106   \n",
       "3    1   9.860660  4.002138   9.453912  3.520290  4.903570  4.600238   \n",
       "4    1   3.546819  2.251571   7.206801  3.309408  2.760355  4.053771   \n",
       "\n",
       "        8         9          10   ...       208       209       210       211  \\\n",
       "0  2.663328  1.685491   5.154945  ...  2.011693  2.781110  0.623268  1.017995   \n",
       "1  2.842607  3.290411  19.564377  ...  1.643242  1.771910  1.771657  2.487338   \n",
       "2  2.257845  3.229605   6.922075  ...  2.563288  3.320609  0.794643  0.812260   \n",
       "3  5.796736  6.239554  11.612068  ...  1.603800  2.179609  1.369098  1.533471   \n",
       "4  2.604074  1.768247   3.601283  ...  1.006246  1.812694  0.867581  0.685329   \n",
       "\n",
       "        212       213       214       215       216       217  \n",
       "0  0.620958  1.085525  1.539800  1.575473  1.759159  2.582784  \n",
       "1  1.780088  1.575420  1.510829  1.847450  1.592856  1.645893  \n",
       "2  0.925568  1.099832  1.348091  1.324041  2.312848  3.191038  \n",
       "3  0.997768  1.436147  1.539725  1.451312  1.481863  1.940598  \n",
       "4  0.585637  0.508474  0.811307  0.825016  0.722866  1.442172  \n",
       "\n",
       "[5 rows x 217 columns]"
      ]
     },
     "execution_count": 24,
     "metadata": {},
     "output_type": "execute_result"
    }
   ],
   "source": [
    "ctyam = pd.read_csv('YamuniTareasFeatures.txt', sep = \"\\t\", header = None)\n",
    "useless_rows = []\n",
    "for index, row in ctyam.iterrows():\n",
    "    if row[1] == 0:\n",
    "        useless_rows.append(index)\n",
    "\n",
    "ctyam = ctyam.drop(useless_rows)\n",
    "ctyam = ctyam.drop([1,218], axis=1)\n",
    "ctyam = ctyam.reset_index(drop = True)\n",
    "\n",
    "for index, row in ctyam.iterrows():\n",
    "    if row[0] in [1, 2, 3, 4, 5, 6, 7, 8, 9, 10, 11, 12]:\n",
    "        ctyam.at[index, 0] = 1\n",
    "    else:\n",
    "        ctyam.at[index, 0] = 0\n",
    "\n",
    "ctyam.head()"
   ]
  },
  {
   "cell_type": "markdown",
   "id": "cdf034ff",
   "metadata": {},
   "source": [
    "### Function for CV"
   ]
  },
  {
   "cell_type": "code",
   "execution_count": 25,
   "id": "fbab1270",
   "metadata": {},
   "outputs": [],
   "source": [
    "def ctyam_cross_validate(classifier, hyperparameters):\n",
    "    \n",
    "    ctyam_target = ctyam.iloc[:,0]\n",
    "    ctyam_data = ctyam.iloc[:,1:]\n",
    "    \n",
    "    n_folds = 5\n",
    "    kf = StratifiedKFold(n_splits=n_folds, shuffle = True)\n",
    "\n",
    "    acc = 0\n",
    "    recall = np.array([0., 0.])\n",
    "    precision = np.array([0., 0.])\n",
    "\n",
    "    y_true = []\n",
    "    y_pred = []\n",
    "    \n",
    "    param_grid = hyperparameters\n",
    "    \n",
    "    grid_search = GridSearchCV(classifier, param_grid, cv=kf)\n",
    "\n",
    "    stratifiedkfold(kf, grid_search, y_true, y_pred, ctyam_data, ctyam_target)\n",
    "\n",
    "    class_names = [\"NoTask\", \"Task\"]\n",
    "    report = classification_report(np.concatenate(y_true), np.concatenate(y_pred), target_names = class_names)\n",
    "    report = report.replace(\"macro avg\", \"macroavg\")\n",
    "    report = report.replace(\"weighted avg\", \"weightedavg\")\n",
    "    rows = report.split('\\n')\n",
    "    rows = [row.split() for row in rows if row.strip()]\n",
    "    return tabulate(rows, headers='firstrow', tablefmt='fancy_grid')"
   ]
  },
  {
   "cell_type": "markdown",
   "id": "04eaa328",
   "metadata": {},
   "source": [
    "### Support Vector Classifier"
   ]
  },
  {
   "cell_type": "code",
   "execution_count": 26,
   "id": "4026fec3",
   "metadata": {},
   "outputs": [
    {
     "name": "stdout",
     "output_type": "stream",
     "text": [
      "Best parameters:  {'C': 10, 'kernel': 'rbf'}\n",
      "Best parameters:  {'C': 1, 'kernel': 'linear'}\n",
      "Best parameters:  {'C': 10, 'kernel': 'rbf'}\n",
      "Best parameters:  {'C': 10, 'kernel': 'rbf'}\n",
      "Best parameters:  {'C': 10, 'kernel': 'rbf'}\n",
      "╒═════════════╤═════════════╤══════════╤════════════╤═══════════╕\n",
      "│             │   precision │   recall │   f1-score │   support │\n",
      "╞═════════════╪═════════════╪══════════╪════════════╪═══════════╡\n",
      "│ NoTask      │        0.48 │     0.67 │       0.56 │        60 │\n",
      "├─────────────┼─────────────┼──────────┼────────────┼───────────┤\n",
      "│ Task        │        0.84 │     0.72 │       0.78 │       152 │\n",
      "├─────────────┼─────────────┼──────────┼────────────┼───────────┤\n",
      "│ accuracy    │        0.7  │   212    │            │           │\n",
      "├─────────────┼─────────────┼──────────┼────────────┼───────────┤\n",
      "│ macroavg    │        0.66 │     0.69 │       0.67 │       212 │\n",
      "├─────────────┼─────────────┼──────────┼────────────┼───────────┤\n",
      "│ weightedavg │        0.74 │     0.7  │       0.71 │       212 │\n",
      "╘═════════════╧═════════════╧══════════╧════════════╧═══════════╛\n"
     ]
    }
   ],
   "source": [
    "print(ctyam_cross_validate(SVC(), svc_hyperparameters))"
   ]
  },
  {
   "cell_type": "markdown",
   "id": "fa6fe65d",
   "metadata": {},
   "source": [
    "### k-Nearest Neighbors"
   ]
  },
  {
   "cell_type": "code",
   "execution_count": 27,
   "id": "c957ead5",
   "metadata": {},
   "outputs": [
    {
     "name": "stdout",
     "output_type": "stream",
     "text": [
      "Best parameters:  {'metric': 'euclidean', 'n_neighbors': 3, 'weights': 'uniform'}\n",
      "Best parameters:  {'metric': 'manhattan', 'n_neighbors': 7, 'weights': 'uniform'}\n",
      "Best parameters:  {'metric': 'manhattan', 'n_neighbors': 3, 'weights': 'uniform'}\n",
      "Best parameters:  {'metric': 'euclidean', 'n_neighbors': 7, 'weights': 'uniform'}\n",
      "Best parameters:  {'metric': 'euclidean', 'n_neighbors': 7, 'weights': 'uniform'}\n",
      "╒═════════════╤═════════════╤══════════╤════════════╤═══════════╕\n",
      "│             │   precision │   recall │   f1-score │   support │\n",
      "╞═════════════╪═════════════╪══════════╪════════════╪═══════════╡\n",
      "│ NoTask      │        0.41 │     0.65 │       0.51 │        60 │\n",
      "├─────────────┼─────────────┼──────────┼────────────┼───────────┤\n",
      "│ Task        │        0.82 │     0.64 │       0.72 │       152 │\n",
      "├─────────────┼─────────────┼──────────┼────────────┼───────────┤\n",
      "│ accuracy    │        0.64 │   212    │            │           │\n",
      "├─────────────┼─────────────┼──────────┼────────────┼───────────┤\n",
      "│ macroavg    │        0.62 │     0.64 │       0.61 │       212 │\n",
      "├─────────────┼─────────────┼──────────┼────────────┼───────────┤\n",
      "│ weightedavg │        0.71 │     0.64 │       0.66 │       212 │\n",
      "╘═════════════╧═════════════╧══════════╧════════════╧═══════════╛\n"
     ]
    }
   ],
   "source": [
    "print(ctyam_cross_validate(KNeighborsClassifier(), knn_hyperparameters))"
   ]
  },
  {
   "cell_type": "markdown",
   "id": "ebdf6a9b",
   "metadata": {},
   "source": [
    "### Multilayer Neural Network"
   ]
  },
  {
   "cell_type": "code",
   "execution_count": 28,
   "id": "33d57267",
   "metadata": {},
   "outputs": [
    {
     "name": "stdout",
     "output_type": "stream",
     "text": [
      "Best parameters:  {'hidden_layer_sizes': (2, 2)}\n",
      "Best parameters:  {'hidden_layer_sizes': (2, 2)}\n",
      "Best parameters:  {'hidden_layer_sizes': (2, 2)}\n",
      "Best parameters:  {'hidden_layer_sizes': (3, 3)}\n",
      "Best parameters:  {'hidden_layer_sizes': (3, 3)}\n",
      "╒═════════════╤═════════════╤══════════╤════════════╤═══════════╕\n",
      "│             │   precision │   recall │   f1-score │   support │\n",
      "╞═════════════╪═════════════╪══════════╪════════════╪═══════════╡\n",
      "│ NoTask      │        0.32 │     0.67 │       0.43 │        60 │\n",
      "├─────────────┼─────────────┼──────────┼────────────┼───────────┤\n",
      "│ Task        │        0.77 │     0.43 │       0.55 │       152 │\n",
      "├─────────────┼─────────────┼──────────┼────────────┼───────────┤\n",
      "│ accuracy    │        0.5  │   212    │            │           │\n",
      "├─────────────┼─────────────┼──────────┼────────────┼───────────┤\n",
      "│ macroavg    │        0.54 │     0.55 │       0.49 │       212 │\n",
      "├─────────────┼─────────────┼──────────┼────────────┼───────────┤\n",
      "│ weightedavg │        0.64 │     0.5  │       0.52 │       212 │\n",
      "╘═════════════╧═════════════╧══════════╧════════════╧═══════════╛\n"
     ]
    }
   ],
   "source": [
    "print(ctyam_cross_validate(MLPClassifier(max_iter=10000), mlp_hyperparameters))"
   ]
  },
  {
   "cell_type": "markdown",
   "id": "bad3f47c",
   "metadata": {},
   "source": [
    "### Random Forest"
   ]
  },
  {
   "cell_type": "code",
   "execution_count": 29,
   "id": "55932ea4",
   "metadata": {},
   "outputs": [
    {
     "name": "stdout",
     "output_type": "stream",
     "text": [
      "Best parameters:  {'n_estimators': 500}\n",
      "Best parameters:  {'n_estimators': 500}\n",
      "Best parameters:  {'n_estimators': 450}\n",
      "Best parameters:  {'n_estimators': 500}\n",
      "Best parameters:  {'n_estimators': 450}\n",
      "╒═════════════╤═════════════╤══════════╤════════════╤═══════════╕\n",
      "│             │   precision │   recall │   f1-score │   support │\n",
      "╞═════════════╪═════════════╪══════════╪════════════╪═══════════╡\n",
      "│ NoTask      │        0.38 │     0.6  │       0.47 │        60 │\n",
      "├─────────────┼─────────────┼──────────┼────────────┼───────────┤\n",
      "│ Task        │        0.8  │     0.62 │       0.7  │       152 │\n",
      "├─────────────┼─────────────┼──────────┼────────────┼───────────┤\n",
      "│ accuracy    │        0.61 │   212    │            │           │\n",
      "├─────────────┼─────────────┼──────────┼────────────┼───────────┤\n",
      "│ macroavg    │        0.59 │     0.61 │       0.58 │       212 │\n",
      "├─────────────┼─────────────┼──────────┼────────────┼───────────┤\n",
      "│ weightedavg │        0.68 │     0.61 │       0.63 │       212 │\n",
      "╘═════════════╧═════════════╧══════════╧════════════╧═══════════╛\n"
     ]
    }
   ],
   "source": [
    "print(ctyam_cross_validate(RandomForestClassifier(), rf_hyperparameters))"
   ]
  },
  {
   "cell_type": "markdown",
   "id": "d839900d",
   "metadata": {},
   "source": [
    "### Gradient Boosting"
   ]
  },
  {
   "cell_type": "code",
   "execution_count": 30,
   "id": "7975e500",
   "metadata": {},
   "outputs": [
    {
     "name": "stdout",
     "output_type": "stream",
     "text": [
      "Best parameters:  {'n_estimators': 150}\n",
      "Best parameters:  {'n_estimators': 150}\n",
      "Best parameters:  {'n_estimators': 150}\n",
      "Best parameters:  {'n_estimators': 150}\n",
      "Best parameters:  {'n_estimators': 150}\n",
      "╒═════════════╤═════════════╤══════════╤════════════╤═══════════╕\n",
      "│             │   precision │   recall │   f1-score │   support │\n",
      "╞═════════════╪═════════════╪══════════╪════════════╪═══════════╡\n",
      "│ NoTask      │        0.31 │     0.48 │       0.38 │        60 │\n",
      "├─────────────┼─────────────┼──────────┼────────────┼───────────┤\n",
      "│ Task        │        0.74 │     0.57 │       0.64 │       152 │\n",
      "├─────────────┼─────────────┼──────────┼────────────┼───────────┤\n",
      "│ accuracy    │        0.55 │   212    │            │           │\n",
      "├─────────────┼─────────────┼──────────┼────────────┼───────────┤\n",
      "│ macroavg    │        0.52 │     0.53 │       0.51 │       212 │\n",
      "├─────────────┼─────────────┼──────────┼────────────┼───────────┤\n",
      "│ weightedavg │        0.62 │     0.55 │       0.57 │       212 │\n",
      "╘═════════════╧═════════════╧══════════╧════════════╧═══════════╛\n"
     ]
    }
   ],
   "source": [
    "print(ctyam_cross_validate(GradientBoostingClassifier(), xgb_hyperparameters))"
   ]
  },
  {
   "cell_type": "markdown",
   "id": "4b2256c1",
   "metadata": {},
   "source": [
    "# Cognitive Tasks (Three classes)"
   ]
  },
  {
   "cell_type": "markdown",
   "id": "2e34a26b",
   "metadata": {},
   "source": [
    "## Archivo Michel"
   ]
  },
  {
   "cell_type": "code",
   "execution_count": 31,
   "id": "c256b875",
   "metadata": {},
   "outputs": [
    {
     "data": {
      "text/html": [
       "<div>\n",
       "<style scoped>\n",
       "    .dataframe tbody tr th:only-of-type {\n",
       "        vertical-align: middle;\n",
       "    }\n",
       "\n",
       "    .dataframe tbody tr th {\n",
       "        vertical-align: top;\n",
       "    }\n",
       "\n",
       "    .dataframe thead th {\n",
       "        text-align: right;\n",
       "    }\n",
       "</style>\n",
       "<table border=\"1\" class=\"dataframe\">\n",
       "  <thead>\n",
       "    <tr style=\"text-align: right;\">\n",
       "      <th></th>\n",
       "      <th>0</th>\n",
       "      <th>2</th>\n",
       "      <th>3</th>\n",
       "      <th>4</th>\n",
       "      <th>5</th>\n",
       "      <th>6</th>\n",
       "      <th>7</th>\n",
       "      <th>8</th>\n",
       "      <th>9</th>\n",
       "      <th>10</th>\n",
       "      <th>...</th>\n",
       "      <th>208</th>\n",
       "      <th>209</th>\n",
       "      <th>210</th>\n",
       "      <th>211</th>\n",
       "      <th>212</th>\n",
       "      <th>213</th>\n",
       "      <th>214</th>\n",
       "      <th>215</th>\n",
       "      <th>216</th>\n",
       "      <th>217</th>\n",
       "    </tr>\n",
       "  </thead>\n",
       "  <tbody>\n",
       "    <tr>\n",
       "      <th>0</th>\n",
       "      <td>1</td>\n",
       "      <td>8.889212</td>\n",
       "      <td>10.181752</td>\n",
       "      <td>8.503275</td>\n",
       "      <td>7.361181</td>\n",
       "      <td>6.100860</td>\n",
       "      <td>6.291361</td>\n",
       "      <td>4.656164</td>\n",
       "      <td>4.174572</td>\n",
       "      <td>10.313213</td>\n",
       "      <td>...</td>\n",
       "      <td>1.842248</td>\n",
       "      <td>1.854458</td>\n",
       "      <td>0.571283</td>\n",
       "      <td>0.964798</td>\n",
       "      <td>0.929418</td>\n",
       "      <td>1.552971</td>\n",
       "      <td>1.296322</td>\n",
       "      <td>1.023829</td>\n",
       "      <td>1.673087</td>\n",
       "      <td>1.510133</td>\n",
       "    </tr>\n",
       "    <tr>\n",
       "      <th>1</th>\n",
       "      <td>1</td>\n",
       "      <td>5.652767</td>\n",
       "      <td>8.042858</td>\n",
       "      <td>3.247380</td>\n",
       "      <td>4.134670</td>\n",
       "      <td>3.162395</td>\n",
       "      <td>9.280908</td>\n",
       "      <td>4.457860</td>\n",
       "      <td>4.711377</td>\n",
       "      <td>7.119301</td>\n",
       "      <td>...</td>\n",
       "      <td>2.245265</td>\n",
       "      <td>2.127966</td>\n",
       "      <td>1.155517</td>\n",
       "      <td>1.398074</td>\n",
       "      <td>0.632108</td>\n",
       "      <td>1.389232</td>\n",
       "      <td>1.681869</td>\n",
       "      <td>1.605331</td>\n",
       "      <td>2.264162</td>\n",
       "      <td>2.176949</td>\n",
       "    </tr>\n",
       "    <tr>\n",
       "      <th>2</th>\n",
       "      <td>1</td>\n",
       "      <td>4.104936</td>\n",
       "      <td>7.174717</td>\n",
       "      <td>4.713861</td>\n",
       "      <td>5.536530</td>\n",
       "      <td>5.891949</td>\n",
       "      <td>4.063717</td>\n",
       "      <td>3.889408</td>\n",
       "      <td>4.984165</td>\n",
       "      <td>4.448951</td>\n",
       "      <td>...</td>\n",
       "      <td>1.122711</td>\n",
       "      <td>0.781695</td>\n",
       "      <td>0.687759</td>\n",
       "      <td>0.432641</td>\n",
       "      <td>0.441181</td>\n",
       "      <td>1.244465</td>\n",
       "      <td>0.679333</td>\n",
       "      <td>0.726530</td>\n",
       "      <td>1.093091</td>\n",
       "      <td>0.795292</td>\n",
       "    </tr>\n",
       "    <tr>\n",
       "      <th>3</th>\n",
       "      <td>1</td>\n",
       "      <td>19.788445</td>\n",
       "      <td>15.877236</td>\n",
       "      <td>22.369973</td>\n",
       "      <td>20.095686</td>\n",
       "      <td>15.335189</td>\n",
       "      <td>22.178942</td>\n",
       "      <td>4.841323</td>\n",
       "      <td>6.310983</td>\n",
       "      <td>20.518696</td>\n",
       "      <td>...</td>\n",
       "      <td>1.461832</td>\n",
       "      <td>0.739749</td>\n",
       "      <td>0.722074</td>\n",
       "      <td>0.527056</td>\n",
       "      <td>1.162233</td>\n",
       "      <td>1.249377</td>\n",
       "      <td>1.274189</td>\n",
       "      <td>0.873493</td>\n",
       "      <td>1.513659</td>\n",
       "      <td>0.701651</td>\n",
       "    </tr>\n",
       "    <tr>\n",
       "      <th>4</th>\n",
       "      <td>1</td>\n",
       "      <td>28.094811</td>\n",
       "      <td>12.783838</td>\n",
       "      <td>4.219859</td>\n",
       "      <td>7.865875</td>\n",
       "      <td>8.862163</td>\n",
       "      <td>15.560597</td>\n",
       "      <td>9.503334</td>\n",
       "      <td>3.914084</td>\n",
       "      <td>35.476962</td>\n",
       "      <td>...</td>\n",
       "      <td>1.188925</td>\n",
       "      <td>1.403753</td>\n",
       "      <td>0.598690</td>\n",
       "      <td>0.525371</td>\n",
       "      <td>0.425958</td>\n",
       "      <td>1.021527</td>\n",
       "      <td>0.860188</td>\n",
       "      <td>0.894223</td>\n",
       "      <td>1.108798</td>\n",
       "      <td>1.328624</td>\n",
       "    </tr>\n",
       "  </tbody>\n",
       "</table>\n",
       "<p>5 rows × 217 columns</p>\n",
       "</div>"
      ],
      "text/plain": [
       "   0          2          3          4          5          6          7    \\\n",
       "0    1   8.889212  10.181752   8.503275   7.361181   6.100860   6.291361   \n",
       "1    1   5.652767   8.042858   3.247380   4.134670   3.162395   9.280908   \n",
       "2    1   4.104936   7.174717   4.713861   5.536530   5.891949   4.063717   \n",
       "3    1  19.788445  15.877236  22.369973  20.095686  15.335189  22.178942   \n",
       "4    1  28.094811  12.783838   4.219859   7.865875   8.862163  15.560597   \n",
       "\n",
       "        8         9          10   ...       208       209       210       211  \\\n",
       "0  4.656164  4.174572  10.313213  ...  1.842248  1.854458  0.571283  0.964798   \n",
       "1  4.457860  4.711377   7.119301  ...  2.245265  2.127966  1.155517  1.398074   \n",
       "2  3.889408  4.984165   4.448951  ...  1.122711  0.781695  0.687759  0.432641   \n",
       "3  4.841323  6.310983  20.518696  ...  1.461832  0.739749  0.722074  0.527056   \n",
       "4  9.503334  3.914084  35.476962  ...  1.188925  1.403753  0.598690  0.525371   \n",
       "\n",
       "        212       213       214       215       216       217  \n",
       "0  0.929418  1.552971  1.296322  1.023829  1.673087  1.510133  \n",
       "1  0.632108  1.389232  1.681869  1.605331  2.264162  2.176949  \n",
       "2  0.441181  1.244465  0.679333  0.726530  1.093091  0.795292  \n",
       "3  1.162233  1.249377  1.274189  0.873493  1.513659  0.701651  \n",
       "4  0.425958  1.021527  0.860188  0.894223  1.108798  1.328624  \n",
       "\n",
       "[5 rows x 217 columns]"
      ]
     },
     "execution_count": 31,
     "metadata": {},
     "output_type": "execute_result"
    }
   ],
   "source": [
    "ctmich2 = pd.read_csv('MichTareasFeatures.txt', sep = \"\\t\", header = None)\n",
    "useless_rows = []\n",
    "for index, row in ctmich2.iterrows():\n",
    "    if row[1] == 0:\n",
    "        useless_rows.append(index)\n",
    "\n",
    "ctmich2 = ctmich2.drop(useless_rows)\n",
    "ctmich2 = ctmich2.drop([1,218], axis=1)\n",
    "ctmich2 = ctmich2.reset_index(drop = True)\n",
    "\n",
    "rows_to_drop = []\n",
    "for index, row in ctmich2.iterrows():\n",
    "    if row[0] in [1, 2, 3, 4]:\n",
    "        ctmich2.at[index, 0] = 1\n",
    "    elif row[0] in [5, 6, 7, 8]:\n",
    "        ctmich2.at[index, 0] = 2\n",
    "    elif row[0] in [9, 10, 11, 12]:\n",
    "        ctmich2.at[index, 0] = 3\n",
    "    else:\n",
    "        rows_to_drop.append(index)\n",
    "ctmich2 = ctmich2.drop(rows_to_drop)\n",
    "        \n",
    "ctmich2.head()"
   ]
  },
  {
   "cell_type": "markdown",
   "id": "8f0e89b1",
   "metadata": {},
   "source": [
    "### Function for CV"
   ]
  },
  {
   "cell_type": "code",
   "execution_count": 32,
   "id": "a27c146d",
   "metadata": {},
   "outputs": [],
   "source": [
    "def ctmich2_cross_validate(classifier, hyperparameters):\n",
    "    \n",
    "    ctmich2_target = ctmich2.iloc[:,0]\n",
    "    ctmich2_data = ctmich2.iloc[:,1:]\n",
    "    \n",
    "    n_folds = 5\n",
    "    kf = StratifiedKFold(n_splits=n_folds, shuffle = True)\n",
    "\n",
    "    acc = 0\n",
    "    recall = np.array([0., 0.])\n",
    "    precision = np.array([0., 0.])\n",
    "\n",
    "    y_true = []\n",
    "    y_pred = []\n",
    "    \n",
    "    param_grid = hyperparameters\n",
    "    \n",
    "    grid_search = GridSearchCV(classifier, param_grid, cv=kf)\n",
    "\n",
    "    stratifiedkfold(kf, grid_search, y_true, y_pred, ctmich2_data, ctmich2_target)\n",
    "\n",
    "    class_names = [\"Recordar\", \"Lectura\", \"Calculo\"]\n",
    "    report = classification_report(np.concatenate(y_true), np.concatenate(y_pred), target_names = class_names)\n",
    "    report = report.replace(\"macro avg\", \"macroavg\")\n",
    "    report = report.replace(\"weighted avg\", \"weightedavg\")\n",
    "    rows = report.split('\\n')\n",
    "    rows = [row.split() for row in rows if row.strip()]\n",
    "    return tabulate(rows, headers='firstrow', tablefmt='fancy_grid')"
   ]
  },
  {
   "cell_type": "markdown",
   "id": "9289e9cf",
   "metadata": {},
   "source": [
    "### Support Vector Classifier"
   ]
  },
  {
   "cell_type": "code",
   "execution_count": 33,
   "id": "40446ecb",
   "metadata": {},
   "outputs": [
    {
     "name": "stdout",
     "output_type": "stream",
     "text": [
      "Best parameters:  {'C': 1, 'kernel': 'linear'}\n",
      "Best parameters:  {'C': 0.1, 'kernel': 'linear'}\n",
      "Best parameters:  {'C': 1, 'kernel': 'linear'}\n",
      "Best parameters:  {'C': 0.1, 'kernel': 'linear'}\n",
      "Best parameters:  {'C': 0.1, 'kernel': 'linear'}\n",
      "╒═════════════╤═════════════╤══════════╤════════════╤═══════════╕\n",
      "│             │   precision │   recall │   f1-score │   support │\n",
      "╞═════════════╪═════════════╪══════════╪════════════╪═══════════╡\n",
      "│ Recordar    │        0.4  │     0.47 │       0.43 │        43 │\n",
      "├─────────────┼─────────────┼──────────┼────────────┼───────────┤\n",
      "│ Lectura     │        0.89 │     0.74 │       0.81 │        42 │\n",
      "├─────────────┼─────────────┼──────────┼────────────┼───────────┤\n",
      "│ Calculo     │        0.47 │     0.47 │       0.47 │        45 │\n",
      "├─────────────┼─────────────┼──────────┼────────────┼───────────┤\n",
      "│ accuracy    │        0.55 │   130    │            │           │\n",
      "├─────────────┼─────────────┼──────────┼────────────┼───────────┤\n",
      "│ macroavg    │        0.58 │     0.56 │       0.57 │       130 │\n",
      "├─────────────┼─────────────┼──────────┼────────────┼───────────┤\n",
      "│ weightedavg │        0.58 │     0.55 │       0.56 │       130 │\n",
      "╘═════════════╧═════════════╧══════════╧════════════╧═══════════╛\n"
     ]
    }
   ],
   "source": [
    "print(ctmich2_cross_validate(SVC(), svc_hyperparameters))"
   ]
  },
  {
   "cell_type": "markdown",
   "id": "56c3fc3e",
   "metadata": {},
   "source": [
    "### k-Nearest Neighbors"
   ]
  },
  {
   "cell_type": "code",
   "execution_count": 34,
   "id": "613d64ff",
   "metadata": {},
   "outputs": [
    {
     "name": "stdout",
     "output_type": "stream",
     "text": [
      "Best parameters:  {'metric': 'manhattan', 'n_neighbors': 5, 'weights': 'uniform'}\n",
      "Best parameters:  {'metric': 'euclidean', 'n_neighbors': 3, 'weights': 'uniform'}\n",
      "Best parameters:  {'metric': 'manhattan', 'n_neighbors': 7, 'weights': 'distance'}\n",
      "Best parameters:  {'metric': 'euclidean', 'n_neighbors': 7, 'weights': 'distance'}\n",
      "Best parameters:  {'metric': 'euclidean', 'n_neighbors': 7, 'weights': 'distance'}\n",
      "╒═════════════╤═════════════╤══════════╤════════════╤═══════════╕\n",
      "│             │   precision │   recall │   f1-score │   support │\n",
      "╞═════════════╪═════════════╪══════════╪════════════╪═══════════╡\n",
      "│ Recordar    │        0.46 │     0.51 │       0.48 │        43 │\n",
      "├─────────────┼─────────────┼──────────┼────────────┼───────────┤\n",
      "│ Lectura     │        0.72 │     0.79 │       0.75 │        42 │\n",
      "├─────────────┼─────────────┼──────────┼────────────┼───────────┤\n",
      "│ Calculo     │        0.61 │     0.49 │       0.54 │        45 │\n",
      "├─────────────┼─────────────┼──────────┼────────────┼───────────┤\n",
      "│ accuracy    │        0.59 │   130    │            │           │\n",
      "├─────────────┼─────────────┼──────────┼────────────┼───────────┤\n",
      "│ macroavg    │        0.6  │     0.6  │       0.59 │       130 │\n",
      "├─────────────┼─────────────┼──────────┼────────────┼───────────┤\n",
      "│ weightedavg │        0.59 │     0.59 │       0.59 │       130 │\n",
      "╘═════════════╧═════════════╧══════════╧════════════╧═══════════╛\n"
     ]
    }
   ],
   "source": [
    "print(ctmich2_cross_validate(KNeighborsClassifier(), knn_hyperparameters))"
   ]
  },
  {
   "cell_type": "markdown",
   "id": "4baa1ac2",
   "metadata": {},
   "source": [
    "### Multilayer Neural Network"
   ]
  },
  {
   "cell_type": "code",
   "execution_count": 35,
   "id": "599d1472",
   "metadata": {},
   "outputs": [
    {
     "name": "stdout",
     "output_type": "stream",
     "text": [
      "Best parameters:  {'hidden_layer_sizes': (3, 3)}\n",
      "Best parameters:  {'hidden_layer_sizes': (3, 3)}\n",
      "Best parameters:  {'hidden_layer_sizes': (3, 3)}\n",
      "Best parameters:  {'hidden_layer_sizes': (3, 3)}\n",
      "Best parameters:  {'hidden_layer_sizes': (2, 2)}\n",
      "╒═════════════╤═════════════╤══════════╤════════════╤═══════════╕\n",
      "│             │   precision │   recall │   f1-score │   support │\n",
      "╞═════════════╪═════════════╪══════════╪════════════╪═══════════╡\n",
      "│ Recordar    │        0.5  │     0.09 │       0.16 │        43 │\n",
      "├─────────────┼─────────────┼──────────┼────────────┼───────────┤\n",
      "│ Lectura     │        0.44 │     0.83 │       0.57 │        42 │\n",
      "├─────────────┼─────────────┼──────────┼────────────┼───────────┤\n",
      "│ Calculo     │        0.48 │     0.44 │       0.46 │        45 │\n",
      "├─────────────┼─────────────┼──────────┼────────────┼───────────┤\n",
      "│ accuracy    │        0.45 │   130    │            │           │\n",
      "├─────────────┼─────────────┼──────────┼────────────┼───────────┤\n",
      "│ macroavg    │        0.47 │     0.46 │       0.4  │       130 │\n",
      "├─────────────┼─────────────┼──────────┼────────────┼───────────┤\n",
      "│ weightedavg │        0.47 │     0.45 │       0.4  │       130 │\n",
      "╘═════════════╧═════════════╧══════════╧════════════╧═══════════╛\n"
     ]
    }
   ],
   "source": [
    "print(ctmich2_cross_validate(MLPClassifier(max_iter=10000), mlp_hyperparameters))"
   ]
  },
  {
   "cell_type": "markdown",
   "id": "1ef2cdc1",
   "metadata": {},
   "source": [
    "### Random Forest"
   ]
  },
  {
   "cell_type": "code",
   "execution_count": 36,
   "id": "d77f1988",
   "metadata": {},
   "outputs": [
    {
     "name": "stdout",
     "output_type": "stream",
     "text": [
      "Best parameters:  {'n_estimators': 500}\n",
      "Best parameters:  {'n_estimators': 500}\n",
      "Best parameters:  {'n_estimators': 450}\n",
      "Best parameters:  {'n_estimators': 450}\n",
      "Best parameters:  {'n_estimators': 450}\n",
      "╒═════════════╤═════════════╤══════════╤════════════╤═══════════╕\n",
      "│             │   precision │   recall │   f1-score │   support │\n",
      "╞═════════════╪═════════════╪══════════╪════════════╪═══════════╡\n",
      "│ Recordar    │        0.47 │     0.37 │       0.42 │        43 │\n",
      "├─────────────┼─────────────┼──────────┼────────────┼───────────┤\n",
      "│ Lectura     │        0.71 │     0.86 │       0.77 │        42 │\n",
      "├─────────────┼─────────────┼──────────┼────────────┼───────────┤\n",
      "│ Calculo     │        0.51 │     0.51 │       0.51 │        45 │\n",
      "├─────────────┼─────────────┼──────────┼────────────┼───────────┤\n",
      "│ accuracy    │        0.58 │   130    │            │           │\n",
      "├─────────────┼─────────────┼──────────┼────────────┼───────────┤\n",
      "│ macroavg    │        0.56 │     0.58 │       0.57 │       130 │\n",
      "├─────────────┼─────────────┼──────────┼────────────┼───────────┤\n",
      "│ weightedavg │        0.56 │     0.58 │       0.56 │       130 │\n",
      "╘═════════════╧═════════════╧══════════╧════════════╧═══════════╛\n"
     ]
    }
   ],
   "source": [
    "print(ctmich2_cross_validate(RandomForestClassifier(), rf_hyperparameters))"
   ]
  },
  {
   "cell_type": "markdown",
   "id": "bf8905d1",
   "metadata": {},
   "source": [
    "### Gradient Boosting"
   ]
  },
  {
   "cell_type": "code",
   "execution_count": 37,
   "id": "fea09024",
   "metadata": {},
   "outputs": [
    {
     "name": "stdout",
     "output_type": "stream",
     "text": [
      "Best parameters:  {'n_estimators': 150}\n",
      "Best parameters:  {'n_estimators': 200}\n",
      "Best parameters:  {'n_estimators': 150}\n",
      "Best parameters:  {'n_estimators': 150}\n",
      "Best parameters:  {'n_estimators': 150}\n",
      "╒═════════════╤═════════════╤══════════╤════════════╤═══════════╕\n",
      "│             │   precision │   recall │   f1-score │   support │\n",
      "╞═════════════╪═════════════╪══════════╪════════════╪═══════════╡\n",
      "│ Recordar    │        0.39 │     0.42 │       0.4  │        43 │\n",
      "├─────────────┼─────────────┼──────────┼────────────┼───────────┤\n",
      "│ Lectura     │        0.71 │     0.76 │       0.74 │        42 │\n",
      "├─────────────┼─────────────┼──────────┼────────────┼───────────┤\n",
      "│ Calculo     │        0.44 │     0.38 │       0.4  │        45 │\n",
      "├─────────────┼─────────────┼──────────┼────────────┼───────────┤\n",
      "│ accuracy    │        0.52 │   130    │            │           │\n",
      "├─────────────┼─────────────┼──────────┼────────────┼───────────┤\n",
      "│ macroavg    │        0.51 │     0.52 │       0.51 │       130 │\n",
      "├─────────────┼─────────────┼──────────┼────────────┼───────────┤\n",
      "│ weightedavg │        0.51 │     0.52 │       0.51 │       130 │\n",
      "╘═════════════╧═════════════╧══════════╧════════════╧═══════════╛\n"
     ]
    }
   ],
   "source": [
    "print(ctmich2_cross_validate(GradientBoostingClassifier(), xgb_hyperparameters))"
   ]
  },
  {
   "cell_type": "markdown",
   "id": "395d1af9",
   "metadata": {},
   "source": [
    "## Archivo Yamuni"
   ]
  },
  {
   "cell_type": "code",
   "execution_count": 38,
   "id": "a55212f5",
   "metadata": {},
   "outputs": [
    {
     "data": {
      "text/html": [
       "<div>\n",
       "<style scoped>\n",
       "    .dataframe tbody tr th:only-of-type {\n",
       "        vertical-align: middle;\n",
       "    }\n",
       "\n",
       "    .dataframe tbody tr th {\n",
       "        vertical-align: top;\n",
       "    }\n",
       "\n",
       "    .dataframe thead th {\n",
       "        text-align: right;\n",
       "    }\n",
       "</style>\n",
       "<table border=\"1\" class=\"dataframe\">\n",
       "  <thead>\n",
       "    <tr style=\"text-align: right;\">\n",
       "      <th></th>\n",
       "      <th>0</th>\n",
       "      <th>2</th>\n",
       "      <th>3</th>\n",
       "      <th>4</th>\n",
       "      <th>5</th>\n",
       "      <th>6</th>\n",
       "      <th>7</th>\n",
       "      <th>8</th>\n",
       "      <th>9</th>\n",
       "      <th>10</th>\n",
       "      <th>...</th>\n",
       "      <th>208</th>\n",
       "      <th>209</th>\n",
       "      <th>210</th>\n",
       "      <th>211</th>\n",
       "      <th>212</th>\n",
       "      <th>213</th>\n",
       "      <th>214</th>\n",
       "      <th>215</th>\n",
       "      <th>216</th>\n",
       "      <th>217</th>\n",
       "    </tr>\n",
       "  </thead>\n",
       "  <tbody>\n",
       "    <tr>\n",
       "      <th>0</th>\n",
       "      <td>1</td>\n",
       "      <td>4.082759</td>\n",
       "      <td>3.540026</td>\n",
       "      <td>6.813089</td>\n",
       "      <td>1.644179</td>\n",
       "      <td>1.928761</td>\n",
       "      <td>4.578276</td>\n",
       "      <td>2.663328</td>\n",
       "      <td>1.685491</td>\n",
       "      <td>5.154945</td>\n",
       "      <td>...</td>\n",
       "      <td>2.011693</td>\n",
       "      <td>2.781110</td>\n",
       "      <td>0.623268</td>\n",
       "      <td>1.017995</td>\n",
       "      <td>0.620958</td>\n",
       "      <td>1.085525</td>\n",
       "      <td>1.539800</td>\n",
       "      <td>1.575473</td>\n",
       "      <td>1.759159</td>\n",
       "      <td>2.582784</td>\n",
       "    </tr>\n",
       "    <tr>\n",
       "      <th>1</th>\n",
       "      <td>1</td>\n",
       "      <td>17.997407</td>\n",
       "      <td>4.182849</td>\n",
       "      <td>16.891554</td>\n",
       "      <td>3.791352</td>\n",
       "      <td>2.737425</td>\n",
       "      <td>4.041567</td>\n",
       "      <td>2.842607</td>\n",
       "      <td>3.290411</td>\n",
       "      <td>19.564377</td>\n",
       "      <td>...</td>\n",
       "      <td>1.643242</td>\n",
       "      <td>1.771910</td>\n",
       "      <td>1.771657</td>\n",
       "      <td>2.487338</td>\n",
       "      <td>1.780088</td>\n",
       "      <td>1.575420</td>\n",
       "      <td>1.510829</td>\n",
       "      <td>1.847450</td>\n",
       "      <td>1.592856</td>\n",
       "      <td>1.645893</td>\n",
       "    </tr>\n",
       "    <tr>\n",
       "      <th>2</th>\n",
       "      <td>1</td>\n",
       "      <td>6.645055</td>\n",
       "      <td>2.804339</td>\n",
       "      <td>5.159441</td>\n",
       "      <td>3.592543</td>\n",
       "      <td>2.646521</td>\n",
       "      <td>1.565106</td>\n",
       "      <td>2.257845</td>\n",
       "      <td>3.229605</td>\n",
       "      <td>6.922075</td>\n",
       "      <td>...</td>\n",
       "      <td>2.563288</td>\n",
       "      <td>3.320609</td>\n",
       "      <td>0.794643</td>\n",
       "      <td>0.812260</td>\n",
       "      <td>0.925568</td>\n",
       "      <td>1.099832</td>\n",
       "      <td>1.348091</td>\n",
       "      <td>1.324041</td>\n",
       "      <td>2.312848</td>\n",
       "      <td>3.191038</td>\n",
       "    </tr>\n",
       "    <tr>\n",
       "      <th>3</th>\n",
       "      <td>1</td>\n",
       "      <td>9.860660</td>\n",
       "      <td>4.002138</td>\n",
       "      <td>9.453912</td>\n",
       "      <td>3.520290</td>\n",
       "      <td>4.903570</td>\n",
       "      <td>4.600238</td>\n",
       "      <td>5.796736</td>\n",
       "      <td>6.239554</td>\n",
       "      <td>11.612068</td>\n",
       "      <td>...</td>\n",
       "      <td>1.603800</td>\n",
       "      <td>2.179609</td>\n",
       "      <td>1.369098</td>\n",
       "      <td>1.533471</td>\n",
       "      <td>0.997768</td>\n",
       "      <td>1.436147</td>\n",
       "      <td>1.539725</td>\n",
       "      <td>1.451312</td>\n",
       "      <td>1.481863</td>\n",
       "      <td>1.940598</td>\n",
       "    </tr>\n",
       "    <tr>\n",
       "      <th>4</th>\n",
       "      <td>1</td>\n",
       "      <td>3.546819</td>\n",
       "      <td>2.251571</td>\n",
       "      <td>7.206801</td>\n",
       "      <td>3.309408</td>\n",
       "      <td>2.760355</td>\n",
       "      <td>4.053771</td>\n",
       "      <td>2.604074</td>\n",
       "      <td>1.768247</td>\n",
       "      <td>3.601283</td>\n",
       "      <td>...</td>\n",
       "      <td>1.006246</td>\n",
       "      <td>1.812694</td>\n",
       "      <td>0.867581</td>\n",
       "      <td>0.685329</td>\n",
       "      <td>0.585637</td>\n",
       "      <td>0.508474</td>\n",
       "      <td>0.811307</td>\n",
       "      <td>0.825016</td>\n",
       "      <td>0.722866</td>\n",
       "      <td>1.442172</td>\n",
       "    </tr>\n",
       "  </tbody>\n",
       "</table>\n",
       "<p>5 rows × 217 columns</p>\n",
       "</div>"
      ],
      "text/plain": [
       "   0          2         3          4         5         6         7    \\\n",
       "0    1   4.082759  3.540026   6.813089  1.644179  1.928761  4.578276   \n",
       "1    1  17.997407  4.182849  16.891554  3.791352  2.737425  4.041567   \n",
       "2    1   6.645055  2.804339   5.159441  3.592543  2.646521  1.565106   \n",
       "3    1   9.860660  4.002138   9.453912  3.520290  4.903570  4.600238   \n",
       "4    1   3.546819  2.251571   7.206801  3.309408  2.760355  4.053771   \n",
       "\n",
       "        8         9          10   ...       208       209       210       211  \\\n",
       "0  2.663328  1.685491   5.154945  ...  2.011693  2.781110  0.623268  1.017995   \n",
       "1  2.842607  3.290411  19.564377  ...  1.643242  1.771910  1.771657  2.487338   \n",
       "2  2.257845  3.229605   6.922075  ...  2.563288  3.320609  0.794643  0.812260   \n",
       "3  5.796736  6.239554  11.612068  ...  1.603800  2.179609  1.369098  1.533471   \n",
       "4  2.604074  1.768247   3.601283  ...  1.006246  1.812694  0.867581  0.685329   \n",
       "\n",
       "        212       213       214       215       216       217  \n",
       "0  0.620958  1.085525  1.539800  1.575473  1.759159  2.582784  \n",
       "1  1.780088  1.575420  1.510829  1.847450  1.592856  1.645893  \n",
       "2  0.925568  1.099832  1.348091  1.324041  2.312848  3.191038  \n",
       "3  0.997768  1.436147  1.539725  1.451312  1.481863  1.940598  \n",
       "4  0.585637  0.508474  0.811307  0.825016  0.722866  1.442172  \n",
       "\n",
       "[5 rows x 217 columns]"
      ]
     },
     "execution_count": 38,
     "metadata": {},
     "output_type": "execute_result"
    }
   ],
   "source": [
    "ctyam2 = pd.read_csv('YamuniTareasFeatures.txt', sep = \"\\t\", header = None)\n",
    "useless_rows = []\n",
    "for index, row in ctyam2.iterrows():\n",
    "    if row[1] == 0:\n",
    "        useless_rows.append(index)\n",
    "\n",
    "ctyam2 = ctyam2.drop(useless_rows)\n",
    "ctyam2 = ctyam2.drop([1,218], axis=1)\n",
    "ctyam2 = ctyam2.reset_index(drop = True)\n",
    "\n",
    "rows_to_drop = []\n",
    "for index, row in ctyam2.iterrows():\n",
    "    if row[0] in [1, 2, 3, 4]:\n",
    "        ctyam2.at[index, 0] = 1\n",
    "    elif row[0] in [5, 6, 7, 8]:\n",
    "        ctyam2.at[index, 0] = 2\n",
    "    elif row[0] in [9, 10, 11, 12]:\n",
    "        ctyam2.at[index, 0] = 3\n",
    "    else:\n",
    "        rows_to_drop.append(index)\n",
    "ctyam2 = ctyam2.drop(rows_to_drop)\n",
    "        \n",
    "ctyam2.head()"
   ]
  },
  {
   "cell_type": "markdown",
   "id": "46f4f7f3",
   "metadata": {},
   "source": [
    "### Function for CV"
   ]
  },
  {
   "cell_type": "code",
   "execution_count": 39,
   "id": "74a913c6",
   "metadata": {},
   "outputs": [],
   "source": [
    "def ctyam2_cross_validate(classifier, hyperparameters):\n",
    "    \n",
    "    ctyam2_target = ctyam2.iloc[:,0]\n",
    "    ctyam2_data = ctyam2.iloc[:,1:]\n",
    "    \n",
    "    n_folds = 5\n",
    "    kf = StratifiedKFold(n_splits=n_folds, shuffle = True)\n",
    "\n",
    "    acc = 0\n",
    "    recall = np.array([0., 0.])\n",
    "    precision = np.array([0., 0.])\n",
    "\n",
    "    y_true = []\n",
    "    y_pred = []\n",
    "    \n",
    "    param_grid = hyperparameters\n",
    "    \n",
    "    grid_search = GridSearchCV(classifier, param_grid, cv=kf)\n",
    "\n",
    "    stratifiedkfold(kf, grid_search, y_true, y_pred, ctyam2_data, ctyam2_target)\n",
    "\n",
    "    class_names = [\"Recordar\", \"Lectura\", \"Calculo\"]\n",
    "    report = classification_report(np.concatenate(y_true), np.concatenate(y_pred), target_names = class_names)\n",
    "    report = report.replace(\"macro avg\", \"macroavg\")\n",
    "    report = report.replace(\"weighted avg\", \"weightedavg\")\n",
    "    rows = report.split('\\n')\n",
    "    rows = [row.split() for row in rows if row.strip()]\n",
    "    return tabulate(rows, headers='firstrow', tablefmt='fancy_grid')"
   ]
  },
  {
   "cell_type": "markdown",
   "id": "5e764492",
   "metadata": {},
   "source": [
    "### Support Vector Classifier"
   ]
  },
  {
   "cell_type": "code",
   "execution_count": 40,
   "id": "cf9194d6",
   "metadata": {},
   "outputs": [
    {
     "name": "stdout",
     "output_type": "stream",
     "text": [
      "Best parameters:  {'C': 10, 'kernel': 'rbf'}\n",
      "Best parameters:  {'C': 0.1, 'kernel': 'linear'}\n",
      "Best parameters:  {'C': 10, 'kernel': 'rbf'}\n",
      "Best parameters:  {'C': 10, 'kernel': 'rbf'}\n",
      "Best parameters:  {'C': 0.1, 'kernel': 'linear'}\n",
      "╒═════════════╤═════════════╤══════════╤════════════╤═══════════╕\n",
      "│             │   precision │   recall │   f1-score │   support │\n",
      "╞═════════════╪═════════════╪══════════╪════════════╪═══════════╡\n",
      "│ Recordar    │        0.59 │     0.72 │       0.65 │        53 │\n",
      "├─────────────┼─────────────┼──────────┼────────────┼───────────┤\n",
      "│ Lectura     │        0.72 │     0.6  │       0.65 │        52 │\n",
      "├─────────────┼─────────────┼──────────┼────────────┼───────────┤\n",
      "│ Calculo     │        0.44 │     0.43 │       0.43 │        47 │\n",
      "├─────────────┼─────────────┼──────────┼────────────┼───────────┤\n",
      "│ accuracy    │        0.59 │   152    │            │           │\n",
      "├─────────────┼─────────────┼──────────┼────────────┼───────────┤\n",
      "│ macroavg    │        0.59 │     0.58 │       0.58 │       152 │\n",
      "├─────────────┼─────────────┼──────────┼────────────┼───────────┤\n",
      "│ weightedavg │        0.59 │     0.59 │       0.58 │       152 │\n",
      "╘═════════════╧═════════════╧══════════╧════════════╧═══════════╛\n"
     ]
    }
   ],
   "source": [
    "print(ctyam2_cross_validate(SVC(), svc_hyperparameters))"
   ]
  },
  {
   "cell_type": "markdown",
   "id": "01e9f694",
   "metadata": {},
   "source": [
    "### k-Nearest Neighbors"
   ]
  },
  {
   "cell_type": "code",
   "execution_count": 41,
   "id": "23652f8b",
   "metadata": {},
   "outputs": [
    {
     "name": "stdout",
     "output_type": "stream",
     "text": [
      "Best parameters:  {'metric': 'euclidean', 'n_neighbors': 7, 'weights': 'uniform'}\n",
      "Best parameters:  {'metric': 'manhattan', 'n_neighbors': 7, 'weights': 'uniform'}\n",
      "Best parameters:  {'metric': 'manhattan', 'n_neighbors': 7, 'weights': 'uniform'}\n",
      "Best parameters:  {'metric': 'euclidean', 'n_neighbors': 7, 'weights': 'distance'}\n",
      "Best parameters:  {'metric': 'euclidean', 'n_neighbors': 7, 'weights': 'distance'}\n",
      "╒═════════════╤═════════════╤══════════╤════════════╤═══════════╕\n",
      "│             │   precision │   recall │   f1-score │   support │\n",
      "╞═════════════╪═════════════╪══════════╪════════════╪═══════════╡\n",
      "│ Recordar    │        0.54 │     0.64 │       0.59 │        53 │\n",
      "├─────────────┼─────────────┼──────────┼────────────┼───────────┤\n",
      "│ Lectura     │        0.7  │     0.67 │       0.69 │        52 │\n",
      "├─────────────┼─────────────┼──────────┼────────────┼───────────┤\n",
      "│ Calculo     │        0.31 │     0.26 │       0.28 │        47 │\n",
      "├─────────────┼─────────────┼──────────┼────────────┼───────────┤\n",
      "│ accuracy    │        0.53 │   152    │            │           │\n",
      "├─────────────┼─────────────┼──────────┼────────────┼───────────┤\n",
      "│ macroavg    │        0.52 │     0.52 │       0.52 │       152 │\n",
      "├─────────────┼─────────────┼──────────┼────────────┼───────────┤\n",
      "│ weightedavg │        0.52 │     0.53 │       0.53 │       152 │\n",
      "╘═════════════╧═════════════╧══════════╧════════════╧═══════════╛\n"
     ]
    }
   ],
   "source": [
    "print(ctyam2_cross_validate(KNeighborsClassifier(), knn_hyperparameters))"
   ]
  },
  {
   "cell_type": "markdown",
   "id": "b370c359",
   "metadata": {},
   "source": [
    "### Multilayer Neural Network"
   ]
  },
  {
   "cell_type": "code",
   "execution_count": 42,
   "id": "8f422510",
   "metadata": {},
   "outputs": [
    {
     "name": "stdout",
     "output_type": "stream",
     "text": [
      "Best parameters:  {'hidden_layer_sizes': (3, 3)}\n",
      "Best parameters:  {'hidden_layer_sizes': (3, 3)}\n",
      "Best parameters:  {'hidden_layer_sizes': (2, 2)}\n",
      "Best parameters:  {'hidden_layer_sizes': (3, 3)}\n",
      "Best parameters:  {'hidden_layer_sizes': (3, 3)}\n",
      "╒═════════════╤═════════════╤══════════╤════════════╤═══════════╕\n",
      "│             │   precision │   recall │   f1-score │   support │\n",
      "╞═════════════╪═════════════╪══════════╪════════════╪═══════════╡\n",
      "│ Recordar    │        0.36 │     0.49 │       0.42 │        53 │\n",
      "├─────────────┼─────────────┼──────────┼────────────┼───────────┤\n",
      "│ Lectura     │        0.54 │     0.29 │       0.37 │        52 │\n",
      "├─────────────┼─────────────┼──────────┼────────────┼───────────┤\n",
      "│ Calculo     │        0.33 │     0.36 │       0.34 │        47 │\n",
      "├─────────────┼─────────────┼──────────┼────────────┼───────────┤\n",
      "│ accuracy    │        0.38 │   152    │            │           │\n",
      "├─────────────┼─────────────┼──────────┼────────────┼───────────┤\n",
      "│ macroavg    │        0.41 │     0.38 │       0.38 │       152 │\n",
      "├─────────────┼─────────────┼──────────┼────────────┼───────────┤\n",
      "│ weightedavg │        0.41 │     0.38 │       0.38 │       152 │\n",
      "╘═════════════╧═════════════╧══════════╧════════════╧═══════════╛\n"
     ]
    }
   ],
   "source": [
    "print(ctyam2_cross_validate(MLPClassifier(max_iter=10000), mlp_hyperparameters))"
   ]
  },
  {
   "cell_type": "markdown",
   "id": "b427208a",
   "metadata": {},
   "source": [
    "### Random Forest"
   ]
  },
  {
   "cell_type": "code",
   "execution_count": 43,
   "id": "cbfc2c5e",
   "metadata": {},
   "outputs": [
    {
     "name": "stdout",
     "output_type": "stream",
     "text": [
      "Best parameters:  {'n_estimators': 450}\n",
      "Best parameters:  {'n_estimators': 450}\n",
      "Best parameters:  {'n_estimators': 450}\n",
      "Best parameters:  {'n_estimators': 450}\n",
      "Best parameters:  {'n_estimators': 450}\n",
      "╒═════════════╤═════════════╤══════════╤════════════╤═══════════╕\n",
      "│             │   precision │   recall │   f1-score │   support │\n",
      "╞═════════════╪═════════════╪══════════╪════════════╪═══════════╡\n",
      "│ Recordar    │        0.66 │     0.7  │       0.68 │        53 │\n",
      "├─────────────┼─────────────┼──────────┼────────────┼───────────┤\n",
      "│ Lectura     │        0.73 │     0.67 │       0.7  │        52 │\n",
      "├─────────────┼─────────────┼──────────┼────────────┼───────────┤\n",
      "│ Calculo     │        0.48 │     0.49 │       0.48 │        47 │\n",
      "├─────────────┼─────────────┼──────────┼────────────┼───────────┤\n",
      "│ accuracy    │        0.62 │   152    │            │           │\n",
      "├─────────────┼─────────────┼──────────┼────────────┼───────────┤\n",
      "│ macroavg    │        0.62 │     0.62 │       0.62 │       152 │\n",
      "├─────────────┼─────────────┼──────────┼────────────┼───────────┤\n",
      "│ weightedavg │        0.63 │     0.62 │       0.63 │       152 │\n",
      "╘═════════════╧═════════════╧══════════╧════════════╧═══════════╛\n"
     ]
    }
   ],
   "source": [
    "print(ctyam2_cross_validate(RandomForestClassifier(), rf_hyperparameters))"
   ]
  },
  {
   "cell_type": "markdown",
   "id": "54b77123",
   "metadata": {},
   "source": [
    "### Gradient Boosting"
   ]
  },
  {
   "cell_type": "code",
   "execution_count": 44,
   "id": "6babe396",
   "metadata": {},
   "outputs": [
    {
     "name": "stdout",
     "output_type": "stream",
     "text": [
      "Best parameters:  {'n_estimators': 200}\n",
      "Best parameters:  {'n_estimators': 150}\n",
      "Best parameters:  {'n_estimators': 150}\n",
      "Best parameters:  {'n_estimators': 150}\n",
      "Best parameters:  {'n_estimators': 200}\n",
      "╒═════════════╤═════════════╤══════════╤════════════╤═══════════╕\n",
      "│             │   precision │   recall │   f1-score │   support │\n",
      "╞═════════════╪═════════════╪══════════╪════════════╪═══════════╡\n",
      "│ Recordar    │        0.6  │     0.53 │       0.56 │        53 │\n",
      "├─────────────┼─────────────┼──────────┼────────────┼───────────┤\n",
      "│ Lectura     │        0.76 │     0.67 │       0.71 │        52 │\n",
      "├─────────────┼─────────────┼──────────┼────────────┼───────────┤\n",
      "│ Calculo     │        0.42 │     0.53 │       0.47 │        47 │\n",
      "├─────────────┼─────────────┼──────────┼────────────┼───────────┤\n",
      "│ accuracy    │        0.58 │   152    │            │           │\n",
      "├─────────────┼─────────────┼──────────┼────────────┼───────────┤\n",
      "│ macroavg    │        0.59 │     0.58 │       0.58 │       152 │\n",
      "├─────────────┼─────────────┼──────────┼────────────┼───────────┤\n",
      "│ weightedavg │        0.6  │     0.58 │       0.59 │       152 │\n",
      "╘═════════════╧═════════════╧══════════╧════════════╧═══════════╛\n"
     ]
    }
   ],
   "source": [
    "print(ctyam2_cross_validate(GradientBoostingClassifier(), xgb_hyperparameters))"
   ]
  },
  {
   "cell_type": "markdown",
   "id": "895c4f05",
   "metadata": {},
   "source": [
    "## Aprendizaje por transferencia"
   ]
  },
  {
   "cell_type": "code",
   "execution_count": 75,
   "id": "dccab4a6",
   "metadata": {},
   "outputs": [],
   "source": [
    "p300mich1_target = p300mich1.iloc[:,0]\n",
    "p300mich1_data = p300mich1.iloc[:,1:]\n",
    "rus = RandomUnderSampler()\n",
    "p300mich1_data_resampled, p300mich1_target_resampled = rus.fit_resample(p300mich1_data, p300mich1_target)\n",
    "p300yam_target = p300yam.iloc[:,0]\n",
    "p300yam_data = p300yam.iloc[:,1:]"
   ]
  },
  {
   "cell_type": "markdown",
   "id": "3e2cfc2b",
   "metadata": {},
   "source": [
    "### Support Vector Classifier"
   ]
  },
  {
   "cell_type": "code",
   "execution_count": 76,
   "id": "a2c9e51e",
   "metadata": {},
   "outputs": [
    {
     "name": "stdout",
     "output_type": "stream",
     "text": [
      "╒═════════════╤═════════════╤══════════╤════════════╤═══════════╕\n",
      "│             │   precision │   recall │   f1-score │   support │\n",
      "╞═════════════╪═════════════╪══════════╪════════════╪═══════════╡\n",
      "│ P300        │        0.15 │     0.26 │       0.19 │       269 │\n",
      "├─────────────┼─────────────┼──────────┼────────────┼───────────┤\n",
      "│ NoP300      │        0.77 │     0.63 │       0.69 │      1079 │\n",
      "├─────────────┼─────────────┼──────────┼────────────┼───────────┤\n",
      "│ accuracy    │        0.55 │  1348    │            │           │\n",
      "├─────────────┼─────────────┼──────────┼────────────┼───────────┤\n",
      "│ macroavg    │        0.46 │     0.44 │       0.44 │      1348 │\n",
      "├─────────────┼─────────────┼──────────┼────────────┼───────────┤\n",
      "│ weightedavg │        0.65 │     0.55 │       0.59 │      1348 │\n",
      "╘═════════════╧═════════════╧══════════╧════════════╧═══════════╛\n"
     ]
    }
   ],
   "source": [
    "svc = SVC(C=10, kernel='rbf')\n",
    "svc.fit(p300mich1_data_resampled, p300mich1_target_resampled)\n",
    "\n",
    "y_pred = svc.predict(p300yam_data)\n",
    "y_true = p300yam_target\n",
    "\n",
    "class_names = [\"P300\", \"NoP300\"]\n",
    "report = classification_report(y_true, y_pred, target_names=class_names)\n",
    "report = report.replace(\"macro avg\", \"macroavg\")\n",
    "report = report.replace(\"weighted avg\", \"weightedavg\")\n",
    "rows = report.split('\\n')\n",
    "rows = [row.split() for row in rows if row.strip()]\n",
    "table = tabulate(rows, headers='firstrow', tablefmt='fancy_grid')\n",
    "print(table)"
   ]
  },
  {
   "cell_type": "markdown",
   "id": "8ce52904",
   "metadata": {},
   "source": [
    "### Random Forest"
   ]
  },
  {
   "cell_type": "code",
   "execution_count": 77,
   "id": "e7a6187b",
   "metadata": {},
   "outputs": [
    {
     "name": "stdout",
     "output_type": "stream",
     "text": [
      "╒═════════════╤═════════════╤══════════╤════════════╤═══════════╕\n",
      "│             │   precision │   recall │   f1-score │   support │\n",
      "╞═════════════╪═════════════╪══════════╪════════════╪═══════════╡\n",
      "│ P300        │        0.12 │     0.2  │       0.15 │       269 │\n",
      "├─────────────┼─────────────┼──────────┼────────────┼───────────┤\n",
      "│ NoP300      │        0.76 │     0.65 │       0.7  │      1079 │\n",
      "├─────────────┼─────────────┼──────────┼────────────┼───────────┤\n",
      "│ accuracy    │        0.56 │  1348    │            │           │\n",
      "├─────────────┼─────────────┼──────────┼────────────┼───────────┤\n",
      "│ macroavg    │        0.44 │     0.42 │       0.43 │      1348 │\n",
      "├─────────────┼─────────────┼──────────┼────────────┼───────────┤\n",
      "│ weightedavg │        0.64 │     0.56 │       0.59 │      1348 │\n",
      "╘═════════════╧═════════════╧══════════╧════════════╧═══════════╛\n"
     ]
    }
   ],
   "source": [
    "svc = RandomForestClassifier(n_estimators =450)\n",
    "svc.fit(p300mich1_data_resampled, p300mich1_target_resampled)\n",
    "\n",
    "y_pred = svc.predict(p300yam_data)\n",
    "y_true = p300yam_target\n",
    "\n",
    "class_names = [\"P300\", \"NoP300\"]\n",
    "report = classification_report(y_true, y_pred, target_names=class_names)\n",
    "report = report.replace(\"macro avg\", \"macroavg\")\n",
    "report = report.replace(\"weighted avg\", \"weightedavg\")\n",
    "rows = report.split('\\n')\n",
    "rows = [row.split() for row in rows if row.strip()]\n",
    "table = tabulate(rows, headers='firstrow', tablefmt='fancy_grid')\n",
    "print(table)"
   ]
  },
  {
   "cell_type": "markdown",
   "id": "25cf6ee9",
   "metadata": {},
   "source": [
    "# Ejemplo feature selection"
   ]
  },
  {
   "cell_type": "code",
   "execution_count": 78,
   "id": "5f4155ab",
   "metadata": {},
   "outputs": [
    {
     "name": "stdout",
     "output_type": "stream",
     "text": [
      "0.8070729480235022\n",
      "46\n",
      "[0.01117807 0.00611808 0.01384605 0.01518666 0.00658807 0.00678341\n",
      " 0.03956194 0.02930018 0.05256137 0.01571009 0.00648111 0.02544276\n",
      " 0.01892566 0.00851477 0.00820159 0.01650498 0.0420277  0.00747649\n",
      " 0.01543071 0.00794174 0.00833035 0.01259321 0.00721815 0.00883102\n",
      " 0.01488392 0.00889911 0.00864752 0.01831023 0.0172571  0.05876284\n",
      " 0.03086841 0.01668737 0.01781542 0.00606987 0.02936139 0.00675357\n",
      " 0.01262337 0.02527568 0.05767744 0.01183128 0.01168076 0.02478149\n",
      " 0.01068327 0.00826324 0.01220714 0.00697833]\n",
      "0.006\n",
      "Best parameters:  {'n_estimators': 200}\n",
      "Best parameters:  {'n_estimators': 150}\n",
      "Best parameters:  {'n_estimators': 200}\n",
      "Best parameters:  {'n_estimators': 200}\n",
      "Best parameters:  {'n_estimators': 200}\n",
      "              precision    recall  f1-score   support\n",
      "\n",
      "        P300       0.45      0.74      0.56       204\n",
      "     No P300       0.92      0.77      0.84       826\n",
      "\n",
      "    accuracy                           0.77      1030\n",
      "   macro avg       0.68      0.76      0.70      1030\n",
      "weighted avg       0.83      0.77      0.78      1030\n",
      "\n"
     ]
    }
   ],
   "source": [
    "from itertools import cycle\n",
    "import matplotlib.pyplot as plt\n",
    "gbcm=GradientBoostingClassifier()\n",
    "X = p300mich1.iloc[:,1:]\n",
    "y = p300mich1.iloc[:,0]\n",
    "gbcm.fit(X,y)\n",
    "\n",
    "impuritys_gbc = gbcm.feature_importances_\n",
    "\n",
    "for a in range(2000,0,-1):\n",
    "    a=a/1000\n",
    "    if impuritys_gbc[impuritys_gbc>a].sum()>=0.8:\n",
    "        print(impuritys_gbc[impuritys_gbc>a].sum())\n",
    "        print(len(impuritys_gbc[impuritys_gbc>a]))\n",
    "        print(impuritys_gbc[impuritys_gbc>a])\n",
    "        print(a)\n",
    "        n_len=len(impuritys_gbc[impuritys_gbc>a])\n",
    "        cols=impuritys_gbc>a\n",
    "        break\n",
    "\n",
    "\n",
    "def p300mich1_cross_validate(classifier, hyperparameters):\n",
    "    \n",
    "    p300mich1_target = p300mich1.iloc[:,0]\n",
    "    p300mich1_data = p300mich1.iloc[:,1:]\n",
    "    p300mich1_data = p300mich1_data.iloc[:,cols]\n",
    "    \n",
    "    n_folds = 5\n",
    "    kf = StratifiedKFold(n_splits=n_folds, shuffle = True)\n",
    "\n",
    "    acc = 0\n",
    "    recall = np.array([0., 0.])\n",
    "    precision = np.array([0., 0.])\n",
    "\n",
    "    y_true = []\n",
    "    y_pred = []\n",
    "    \n",
    "    param_grid = hyperparameters\n",
    "    \n",
    "    grid_search = GridSearchCV(classifier, param_grid, cv=kf)\n",
    "\n",
    "    stratifiedkfold(kf, grid_search, y_true, y_pred, p300mich1_data, p300mich1_target)\n",
    "\n",
    "    class_names = [\"P300\", \"No P300\"]\n",
    "    report = classification_report(np.concatenate(y_true), np.concatenate(y_pred), target_names = class_names)\n",
    "    return report\n",
    "\n",
    "xgb_hyperparameters = {'n_estimators': [150, 200]}\n",
    "print(p300mich1_cross_validate(GradientBoostingClassifier(max_features=n_len), xgb_hyperparameters))"
   ]
  }
 ],
 "metadata": {
  "kernelspec": {
   "display_name": "Python 3 (ipykernel)",
   "language": "python",
   "name": "python3"
  },
  "language_info": {
   "codemirror_mode": {
    "name": "ipython",
    "version": 3
   },
   "file_extension": ".py",
   "mimetype": "text/x-python",
   "name": "python",
   "nbconvert_exporter": "python",
   "pygments_lexer": "ipython3",
   "version": "3.10.9"
  }
 },
 "nbformat": 4,
 "nbformat_minor": 5
}
